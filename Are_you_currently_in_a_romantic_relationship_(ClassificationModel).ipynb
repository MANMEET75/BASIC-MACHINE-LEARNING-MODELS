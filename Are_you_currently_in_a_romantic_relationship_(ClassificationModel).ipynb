{
  "nbformat": 4,
  "nbformat_minor": 0,
  "metadata": {
    "colab": {
      "provenance": []
    },
    "kernelspec": {
      "name": "python3",
      "display_name": "Python 3"
    },
    "language_info": {
      "name": "python"
    }
  },
  "cells": [
    {
      "cell_type": "markdown",
      "source": [
        "## Importing the essential libraries over here"
      ],
      "metadata": {
        "id": "L-MrZonb1lki"
      }
    },
    {
      "cell_type": "code",
      "source": [
        "import numpy as np\n",
        "import pandas as pd\n",
        "import matplotlib.pyplot as plt\n",
        "import seaborn as sns\n",
        "%matplotlib inline"
      ],
      "metadata": {
        "id": "cWcc5igq1l6i"
      },
      "execution_count": 1,
      "outputs": []
    },
    {
      "cell_type": "markdown",
      "source": [
        "## Importing the dataset over here"
      ],
      "metadata": {
        "id": "cUrIZvjA1w-b"
      }
    },
    {
      "cell_type": "code",
      "source": [
        "data=pd.read_csv(\"Stats survey.csv\")"
      ],
      "metadata": {
        "id": "fu6MWFq-1l8p"
      },
      "execution_count": 2,
      "outputs": []
    },
    {
      "cell_type": "code",
      "source": [
        "data.head()"
      ],
      "metadata": {
        "colab": {
          "base_uri": "https://localhost:8080/",
          "height": 695
        },
        "id": "VeE22V1m1l9U",
        "outputId": "dc03a4be-8f92-4980-c87c-e8851448b667"
      },
      "execution_count": 3,
      "outputs": [
        {
          "output_type": "execute_result",
          "data": {
            "text/plain": [
              "                   Timestamp Your Sex?  \\\n",
              "0  2024/03/07 5:12:01 pm EET    Female   \n",
              "1  2024/03/07 5:12:08 pm EET      Male   \n",
              "2  2024/03/07 5:12:25 pm EET      Male   \n",
              "3  2024/03/07 5:12:28 pm EET      Male   \n",
              "4  2024/03/07 5:13:00 pm EET    Female   \n",
              "\n",
              "   Your Matric (grade 12) Average/ GPA (in %)  \\\n",
              "0                                        76.0   \n",
              "1                                        89.0   \n",
              "2                                        76.0   \n",
              "3                                        89.0   \n",
              "4                                        74.0   \n",
              "\n",
              "  What year were you in last year (2023) ?  \\\n",
              "0                                 2nd Year   \n",
              "1                                 2nd Year   \n",
              "2                                 1st Year   \n",
              "3                                 2nd Year   \n",
              "4                                 2nd Year   \n",
              "\n",
              "  What faculty does your degree fall under?  \\\n",
              "0                    Arts & Social Sciences   \n",
              "1            Economic & Management Sciences   \n",
              "2                              AgriSciences   \n",
              "3                               Engineering   \n",
              "4                    Arts & Social Sciences   \n",
              "\n",
              "   Your 2023 academic year average/GPA in % (Ignore if you are 2024 1st year student)  \\\n",
              "0                                               72.0                                    \n",
              "1                                               75.0                                    \n",
              "2                                               55.0                                    \n",
              "3                                               84.0                                    \n",
              "4                                               52.0                                    \n",
              "\n",
              "        Your Accommodation Status Last Year (2023) Monthly Allowance in 2023  \\\n",
              "0  Private accommodation/ stay with family/friends            R 4001- R 5000   \n",
              "1  Private accommodation/ stay with family/friends           R 7001 - R 8000   \n",
              "2  Private accommodation/ stay with family/friends            R 4001- R 5000   \n",
              "3  Private accommodation/ stay with family/friends           R 6001 - R 7000   \n",
              "4  Private accommodation/ stay with family/friends            R 4001- R 5000   \n",
              "\n",
              "  Were you on scholarship/bursary in 2023?  \\\n",
              "0                                       No   \n",
              "1                      Yes (NSFAS, etc...)   \n",
              "2                                       No   \n",
              "3                                       No   \n",
              "4                                       No   \n",
              "\n",
              "  Additional amount of studying (in hrs) per week  \\\n",
              "0                                              8+   \n",
              "1                                              8+   \n",
              "2                                             3-5   \n",
              "3                                             3-5   \n",
              "4                                             3-5   \n",
              "\n",
              "  How often do you go out partying/socialising during the week?   \\\n",
              "0                                      Only weekends               \n",
              "1                                      Only weekends               \n",
              "2                                                  2               \n",
              "3                                                  3               \n",
              "4                                      Only weekends               \n",
              "\n",
              "  On a night out, how many alcoholic drinks do you consume?  \\\n",
              "0                                                 8+          \n",
              "1                                                3-5          \n",
              "2                                                 8+          \n",
              "3                                                 8+          \n",
              "4                                                5-8          \n",
              "\n",
              "  How many classes do you miss per week due to alcohol reasons, (i.e: being hungover or too tired?)  \\\n",
              "0                                                  3                                                  \n",
              "1                                                 4+                                                  \n",
              "2                                                  3                                                  \n",
              "3                                                  2                                                  \n",
              "4                                                  1                                                  \n",
              "\n",
              "  How many modules have you failed thus far into your studies?  \\\n",
              "0                                                  0             \n",
              "1                                                  0             \n",
              "2                                                  0             \n",
              "3                                                  0             \n",
              "4                                                  3             \n",
              "\n",
              "  Are you currently in a romantic relationship?  \\\n",
              "0                                           Yes   \n",
              "1                                            No   \n",
              "2                                            No   \n",
              "3                                           Yes   \n",
              "4                                            No   \n",
              "\n",
              "  Do your parents approve alcohol consumption?  \\\n",
              "0                                          Yes   \n",
              "1                                          Yes   \n",
              "2                                          Yes   \n",
              "3                                          Yes   \n",
              "4                                          Yes   \n",
              "\n",
              "  How strong is your relationship with your parent/s?  \n",
              "0                                         Very close   \n",
              "1                                         Very close   \n",
              "2                                         Very close   \n",
              "3                                         Very close   \n",
              "4                                               Fair   "
            ],
            "text/html": [
              "\n",
              "  <div id=\"df-57cc4818-d46d-48c3-9d3e-cd985b230e08\" class=\"colab-df-container\">\n",
              "    <div>\n",
              "<style scoped>\n",
              "    .dataframe tbody tr th:only-of-type {\n",
              "        vertical-align: middle;\n",
              "    }\n",
              "\n",
              "    .dataframe tbody tr th {\n",
              "        vertical-align: top;\n",
              "    }\n",
              "\n",
              "    .dataframe thead th {\n",
              "        text-align: right;\n",
              "    }\n",
              "</style>\n",
              "<table border=\"1\" class=\"dataframe\">\n",
              "  <thead>\n",
              "    <tr style=\"text-align: right;\">\n",
              "      <th></th>\n",
              "      <th>Timestamp</th>\n",
              "      <th>Your Sex?</th>\n",
              "      <th>Your Matric (grade 12) Average/ GPA (in %)</th>\n",
              "      <th>What year were you in last year (2023) ?</th>\n",
              "      <th>What faculty does your degree fall under?</th>\n",
              "      <th>Your 2023 academic year average/GPA in % (Ignore if you are 2024 1st year student)</th>\n",
              "      <th>Your Accommodation Status Last Year (2023)</th>\n",
              "      <th>Monthly Allowance in 2023</th>\n",
              "      <th>Were you on scholarship/bursary in 2023?</th>\n",
              "      <th>Additional amount of studying (in hrs) per week</th>\n",
              "      <th>How often do you go out partying/socialising during the week?</th>\n",
              "      <th>On a night out, how many alcoholic drinks do you consume?</th>\n",
              "      <th>How many classes do you miss per week due to alcohol reasons, (i.e: being hungover or too tired?)</th>\n",
              "      <th>How many modules have you failed thus far into your studies?</th>\n",
              "      <th>Are you currently in a romantic relationship?</th>\n",
              "      <th>Do your parents approve alcohol consumption?</th>\n",
              "      <th>How strong is your relationship with your parent/s?</th>\n",
              "    </tr>\n",
              "  </thead>\n",
              "  <tbody>\n",
              "    <tr>\n",
              "      <th>0</th>\n",
              "      <td>2024/03/07 5:12:01 pm EET</td>\n",
              "      <td>Female</td>\n",
              "      <td>76.0</td>\n",
              "      <td>2nd Year</td>\n",
              "      <td>Arts &amp; Social Sciences</td>\n",
              "      <td>72.0</td>\n",
              "      <td>Private accommodation/ stay with family/friends</td>\n",
              "      <td>R 4001- R 5000</td>\n",
              "      <td>No</td>\n",
              "      <td>8+</td>\n",
              "      <td>Only weekends</td>\n",
              "      <td>8+</td>\n",
              "      <td>3</td>\n",
              "      <td>0</td>\n",
              "      <td>Yes</td>\n",
              "      <td>Yes</td>\n",
              "      <td>Very close</td>\n",
              "    </tr>\n",
              "    <tr>\n",
              "      <th>1</th>\n",
              "      <td>2024/03/07 5:12:08 pm EET</td>\n",
              "      <td>Male</td>\n",
              "      <td>89.0</td>\n",
              "      <td>2nd Year</td>\n",
              "      <td>Economic &amp; Management Sciences</td>\n",
              "      <td>75.0</td>\n",
              "      <td>Private accommodation/ stay with family/friends</td>\n",
              "      <td>R 7001 - R 8000</td>\n",
              "      <td>Yes (NSFAS, etc...)</td>\n",
              "      <td>8+</td>\n",
              "      <td>Only weekends</td>\n",
              "      <td>3-5</td>\n",
              "      <td>4+</td>\n",
              "      <td>0</td>\n",
              "      <td>No</td>\n",
              "      <td>Yes</td>\n",
              "      <td>Very close</td>\n",
              "    </tr>\n",
              "    <tr>\n",
              "      <th>2</th>\n",
              "      <td>2024/03/07 5:12:25 pm EET</td>\n",
              "      <td>Male</td>\n",
              "      <td>76.0</td>\n",
              "      <td>1st Year</td>\n",
              "      <td>AgriSciences</td>\n",
              "      <td>55.0</td>\n",
              "      <td>Private accommodation/ stay with family/friends</td>\n",
              "      <td>R 4001- R 5000</td>\n",
              "      <td>No</td>\n",
              "      <td>3-5</td>\n",
              "      <td>2</td>\n",
              "      <td>8+</td>\n",
              "      <td>3</td>\n",
              "      <td>0</td>\n",
              "      <td>No</td>\n",
              "      <td>Yes</td>\n",
              "      <td>Very close</td>\n",
              "    </tr>\n",
              "    <tr>\n",
              "      <th>3</th>\n",
              "      <td>2024/03/07 5:12:28 pm EET</td>\n",
              "      <td>Male</td>\n",
              "      <td>89.0</td>\n",
              "      <td>2nd Year</td>\n",
              "      <td>Engineering</td>\n",
              "      <td>84.0</td>\n",
              "      <td>Private accommodation/ stay with family/friends</td>\n",
              "      <td>R 6001 - R 7000</td>\n",
              "      <td>No</td>\n",
              "      <td>3-5</td>\n",
              "      <td>3</td>\n",
              "      <td>8+</td>\n",
              "      <td>2</td>\n",
              "      <td>0</td>\n",
              "      <td>Yes</td>\n",
              "      <td>Yes</td>\n",
              "      <td>Very close</td>\n",
              "    </tr>\n",
              "    <tr>\n",
              "      <th>4</th>\n",
              "      <td>2024/03/07 5:13:00 pm EET</td>\n",
              "      <td>Female</td>\n",
              "      <td>74.0</td>\n",
              "      <td>2nd Year</td>\n",
              "      <td>Arts &amp; Social Sciences</td>\n",
              "      <td>52.0</td>\n",
              "      <td>Private accommodation/ stay with family/friends</td>\n",
              "      <td>R 4001- R 5000</td>\n",
              "      <td>No</td>\n",
              "      <td>3-5</td>\n",
              "      <td>Only weekends</td>\n",
              "      <td>5-8</td>\n",
              "      <td>1</td>\n",
              "      <td>3</td>\n",
              "      <td>No</td>\n",
              "      <td>Yes</td>\n",
              "      <td>Fair</td>\n",
              "    </tr>\n",
              "  </tbody>\n",
              "</table>\n",
              "</div>\n",
              "    <div class=\"colab-df-buttons\">\n",
              "\n",
              "  <div class=\"colab-df-container\">\n",
              "    <button class=\"colab-df-convert\" onclick=\"convertToInteractive('df-57cc4818-d46d-48c3-9d3e-cd985b230e08')\"\n",
              "            title=\"Convert this dataframe to an interactive table.\"\n",
              "            style=\"display:none;\">\n",
              "\n",
              "  <svg xmlns=\"http://www.w3.org/2000/svg\" height=\"24px\" viewBox=\"0 -960 960 960\">\n",
              "    <path d=\"M120-120v-720h720v720H120Zm60-500h600v-160H180v160Zm220 220h160v-160H400v160Zm0 220h160v-160H400v160ZM180-400h160v-160H180v160Zm440 0h160v-160H620v160ZM180-180h160v-160H180v160Zm440 0h160v-160H620v160Z\"/>\n",
              "  </svg>\n",
              "    </button>\n",
              "\n",
              "  <style>\n",
              "    .colab-df-container {\n",
              "      display:flex;\n",
              "      gap: 12px;\n",
              "    }\n",
              "\n",
              "    .colab-df-convert {\n",
              "      background-color: #E8F0FE;\n",
              "      border: none;\n",
              "      border-radius: 50%;\n",
              "      cursor: pointer;\n",
              "      display: none;\n",
              "      fill: #1967D2;\n",
              "      height: 32px;\n",
              "      padding: 0 0 0 0;\n",
              "      width: 32px;\n",
              "    }\n",
              "\n",
              "    .colab-df-convert:hover {\n",
              "      background-color: #E2EBFA;\n",
              "      box-shadow: 0px 1px 2px rgba(60, 64, 67, 0.3), 0px 1px 3px 1px rgba(60, 64, 67, 0.15);\n",
              "      fill: #174EA6;\n",
              "    }\n",
              "\n",
              "    .colab-df-buttons div {\n",
              "      margin-bottom: 4px;\n",
              "    }\n",
              "\n",
              "    [theme=dark] .colab-df-convert {\n",
              "      background-color: #3B4455;\n",
              "      fill: #D2E3FC;\n",
              "    }\n",
              "\n",
              "    [theme=dark] .colab-df-convert:hover {\n",
              "      background-color: #434B5C;\n",
              "      box-shadow: 0px 1px 3px 1px rgba(0, 0, 0, 0.15);\n",
              "      filter: drop-shadow(0px 1px 2px rgba(0, 0, 0, 0.3));\n",
              "      fill: #FFFFFF;\n",
              "    }\n",
              "  </style>\n",
              "\n",
              "    <script>\n",
              "      const buttonEl =\n",
              "        document.querySelector('#df-57cc4818-d46d-48c3-9d3e-cd985b230e08 button.colab-df-convert');\n",
              "      buttonEl.style.display =\n",
              "        google.colab.kernel.accessAllowed ? 'block' : 'none';\n",
              "\n",
              "      async function convertToInteractive(key) {\n",
              "        const element = document.querySelector('#df-57cc4818-d46d-48c3-9d3e-cd985b230e08');\n",
              "        const dataTable =\n",
              "          await google.colab.kernel.invokeFunction('convertToInteractive',\n",
              "                                                    [key], {});\n",
              "        if (!dataTable) return;\n",
              "\n",
              "        const docLinkHtml = 'Like what you see? Visit the ' +\n",
              "          '<a target=\"_blank\" href=https://colab.research.google.com/notebooks/data_table.ipynb>data table notebook</a>'\n",
              "          + ' to learn more about interactive tables.';\n",
              "        element.innerHTML = '';\n",
              "        dataTable['output_type'] = 'display_data';\n",
              "        await google.colab.output.renderOutput(dataTable, element);\n",
              "        const docLink = document.createElement('div');\n",
              "        docLink.innerHTML = docLinkHtml;\n",
              "        element.appendChild(docLink);\n",
              "      }\n",
              "    </script>\n",
              "  </div>\n",
              "\n",
              "\n",
              "<div id=\"df-4567a7e3-2725-4b45-aacc-18e447d84aab\">\n",
              "  <button class=\"colab-df-quickchart\" onclick=\"quickchart('df-4567a7e3-2725-4b45-aacc-18e447d84aab')\"\n",
              "            title=\"Suggest charts\"\n",
              "            style=\"display:none;\">\n",
              "\n",
              "<svg xmlns=\"http://www.w3.org/2000/svg\" height=\"24px\"viewBox=\"0 0 24 24\"\n",
              "     width=\"24px\">\n",
              "    <g>\n",
              "        <path d=\"M19 3H5c-1.1 0-2 .9-2 2v14c0 1.1.9 2 2 2h14c1.1 0 2-.9 2-2V5c0-1.1-.9-2-2-2zM9 17H7v-7h2v7zm4 0h-2V7h2v10zm4 0h-2v-4h2v4z\"/>\n",
              "    </g>\n",
              "</svg>\n",
              "  </button>\n",
              "\n",
              "<style>\n",
              "  .colab-df-quickchart {\n",
              "      --bg-color: #E8F0FE;\n",
              "      --fill-color: #1967D2;\n",
              "      --hover-bg-color: #E2EBFA;\n",
              "      --hover-fill-color: #174EA6;\n",
              "      --disabled-fill-color: #AAA;\n",
              "      --disabled-bg-color: #DDD;\n",
              "  }\n",
              "\n",
              "  [theme=dark] .colab-df-quickchart {\n",
              "      --bg-color: #3B4455;\n",
              "      --fill-color: #D2E3FC;\n",
              "      --hover-bg-color: #434B5C;\n",
              "      --hover-fill-color: #FFFFFF;\n",
              "      --disabled-bg-color: #3B4455;\n",
              "      --disabled-fill-color: #666;\n",
              "  }\n",
              "\n",
              "  .colab-df-quickchart {\n",
              "    background-color: var(--bg-color);\n",
              "    border: none;\n",
              "    border-radius: 50%;\n",
              "    cursor: pointer;\n",
              "    display: none;\n",
              "    fill: var(--fill-color);\n",
              "    height: 32px;\n",
              "    padding: 0;\n",
              "    width: 32px;\n",
              "  }\n",
              "\n",
              "  .colab-df-quickchart:hover {\n",
              "    background-color: var(--hover-bg-color);\n",
              "    box-shadow: 0 1px 2px rgba(60, 64, 67, 0.3), 0 1px 3px 1px rgba(60, 64, 67, 0.15);\n",
              "    fill: var(--button-hover-fill-color);\n",
              "  }\n",
              "\n",
              "  .colab-df-quickchart-complete:disabled,\n",
              "  .colab-df-quickchart-complete:disabled:hover {\n",
              "    background-color: var(--disabled-bg-color);\n",
              "    fill: var(--disabled-fill-color);\n",
              "    box-shadow: none;\n",
              "  }\n",
              "\n",
              "  .colab-df-spinner {\n",
              "    border: 2px solid var(--fill-color);\n",
              "    border-color: transparent;\n",
              "    border-bottom-color: var(--fill-color);\n",
              "    animation:\n",
              "      spin 1s steps(1) infinite;\n",
              "  }\n",
              "\n",
              "  @keyframes spin {\n",
              "    0% {\n",
              "      border-color: transparent;\n",
              "      border-bottom-color: var(--fill-color);\n",
              "      border-left-color: var(--fill-color);\n",
              "    }\n",
              "    20% {\n",
              "      border-color: transparent;\n",
              "      border-left-color: var(--fill-color);\n",
              "      border-top-color: var(--fill-color);\n",
              "    }\n",
              "    30% {\n",
              "      border-color: transparent;\n",
              "      border-left-color: var(--fill-color);\n",
              "      border-top-color: var(--fill-color);\n",
              "      border-right-color: var(--fill-color);\n",
              "    }\n",
              "    40% {\n",
              "      border-color: transparent;\n",
              "      border-right-color: var(--fill-color);\n",
              "      border-top-color: var(--fill-color);\n",
              "    }\n",
              "    60% {\n",
              "      border-color: transparent;\n",
              "      border-right-color: var(--fill-color);\n",
              "    }\n",
              "    80% {\n",
              "      border-color: transparent;\n",
              "      border-right-color: var(--fill-color);\n",
              "      border-bottom-color: var(--fill-color);\n",
              "    }\n",
              "    90% {\n",
              "      border-color: transparent;\n",
              "      border-bottom-color: var(--fill-color);\n",
              "    }\n",
              "  }\n",
              "</style>\n",
              "\n",
              "  <script>\n",
              "    async function quickchart(key) {\n",
              "      const quickchartButtonEl =\n",
              "        document.querySelector('#' + key + ' button');\n",
              "      quickchartButtonEl.disabled = true;  // To prevent multiple clicks.\n",
              "      quickchartButtonEl.classList.add('colab-df-spinner');\n",
              "      try {\n",
              "        const charts = await google.colab.kernel.invokeFunction(\n",
              "            'suggestCharts', [key], {});\n",
              "      } catch (error) {\n",
              "        console.error('Error during call to suggestCharts:', error);\n",
              "      }\n",
              "      quickchartButtonEl.classList.remove('colab-df-spinner');\n",
              "      quickchartButtonEl.classList.add('colab-df-quickchart-complete');\n",
              "    }\n",
              "    (() => {\n",
              "      let quickchartButtonEl =\n",
              "        document.querySelector('#df-4567a7e3-2725-4b45-aacc-18e447d84aab button');\n",
              "      quickchartButtonEl.style.display =\n",
              "        google.colab.kernel.accessAllowed ? 'block' : 'none';\n",
              "    })();\n",
              "  </script>\n",
              "</div>\n",
              "\n",
              "    </div>\n",
              "  </div>\n"
            ],
            "application/vnd.google.colaboratory.intrinsic+json": {
              "type": "dataframe",
              "variable_name": "data",
              "summary": "{\n  \"name\": \"data\",\n  \"rows\": 406,\n  \"fields\": [\n    {\n      \"column\": \"Timestamp\",\n      \"properties\": {\n        \"dtype\": \"object\",\n        \"num_unique_values\": 400,\n        \"samples\": [\n          \"2024/03/07 9:09:03 pm EET\",\n          \"2024/03/08 7:08:19 am EET\",\n          \"2024/03/07 5:18:56 pm EET\"\n        ],\n        \"semantic_type\": \"\",\n        \"description\": \"\"\n      }\n    },\n    {\n      \"column\": \"Your Sex?\",\n      \"properties\": {\n        \"dtype\": \"category\",\n        \"num_unique_values\": 2,\n        \"samples\": [\n          \"Male\",\n          \"Female\"\n        ],\n        \"semantic_type\": \"\",\n        \"description\": \"\"\n      }\n    },\n    {\n      \"column\": \"Your Matric (grade 12) Average/ GPA (in %)\",\n      \"properties\": {\n        \"dtype\": \"number\",\n        \"std\": 7.0486180386982795,\n        \"min\": 34.0,\n        \"max\": 99.0,\n        \"num_unique_values\": 43,\n        \"samples\": [\n          86.4,\n          82.0\n        ],\n        \"semantic_type\": \"\",\n        \"description\": \"\"\n      }\n    },\n    {\n      \"column\": \"What year were you in last year (2023) ?\",\n      \"properties\": {\n        \"dtype\": \"category\",\n        \"num_unique_values\": 5,\n        \"samples\": [\n          \"1st Year\",\n          \"Postgraduate\"\n        ],\n        \"semantic_type\": \"\",\n        \"description\": \"\"\n      }\n    },\n    {\n      \"column\": \"What faculty does your degree fall under?\",\n      \"properties\": {\n        \"dtype\": \"category\",\n        \"num_unique_values\": 8,\n        \"samples\": [\n          \"Economic & Management Sciences\",\n          \"Medicine and Health Services\"\n        ],\n        \"semantic_type\": \"\",\n        \"description\": \"\"\n      }\n    },\n    {\n      \"column\": \"Your 2023 academic year average/GPA in % (Ignore if you are 2024 1st year student)\",\n      \"properties\": {\n        \"dtype\": \"number\",\n        \"std\": 9.147906273239432,\n        \"min\": 30.0,\n        \"max\": 95.22,\n        \"num_unique_values\": 45,\n        \"samples\": [\n          87.6,\n          71.0\n        ],\n        \"semantic_type\": \"\",\n        \"description\": \"\"\n      }\n    },\n    {\n      \"column\": \"Your Accommodation Status Last Year (2023)\",\n      \"properties\": {\n        \"dtype\": \"category\",\n        \"num_unique_values\": 2,\n        \"samples\": [\n          \"Non-private accommodation ie. Res\",\n          \"Private accommodation/ stay with family/friends\"\n        ],\n        \"semantic_type\": \"\",\n        \"description\": \"\"\n      }\n    },\n    {\n      \"column\": \"Monthly Allowance in 2023\",\n      \"properties\": {\n        \"dtype\": \"category\",\n        \"num_unique_values\": 5,\n        \"samples\": [\n          \"R 7001 - R 8000\",\n          \"R 8000+\"\n        ],\n        \"semantic_type\": \"\",\n        \"description\": \"\"\n      }\n    },\n    {\n      \"column\": \"Were you on scholarship/bursary in 2023?\",\n      \"properties\": {\n        \"dtype\": \"category\",\n        \"num_unique_values\": 2,\n        \"samples\": [\n          \"Yes (NSFAS, etc...)\",\n          \"No\"\n        ],\n        \"semantic_type\": \"\",\n        \"description\": \"\"\n      }\n    },\n    {\n      \"column\": \"Additional amount of studying (in hrs) per week\",\n      \"properties\": {\n        \"dtype\": \"category\",\n        \"num_unique_values\": 5,\n        \"samples\": [\n          \"3-5\",\n          \"0\"\n        ],\n        \"semantic_type\": \"\",\n        \"description\": \"\"\n      }\n    },\n    {\n      \"column\": \"How often do you go out partying/socialising during the week? \",\n      \"properties\": {\n        \"dtype\": \"category\",\n        \"num_unique_values\": 6,\n        \"samples\": [\n          \"Only weekends\",\n          \"2\"\n        ],\n        \"semantic_type\": \"\",\n        \"description\": \"\"\n      }\n    },\n    {\n      \"column\": \"On a night out, how many alcoholic drinks do you consume?\",\n      \"properties\": {\n        \"dtype\": \"category\",\n        \"num_unique_values\": 5,\n        \"samples\": [\n          \"3-5\",\n          \"0\"\n        ],\n        \"semantic_type\": \"\",\n        \"description\": \"\"\n      }\n    },\n    {\n      \"column\": \"How many classes do you miss per week due to alcohol reasons, (i.e: being hungover or too tired?)\",\n      \"properties\": {\n        \"dtype\": \"category\",\n        \"num_unique_values\": 5,\n        \"samples\": [\n          \"4+\",\n          \"0\"\n        ],\n        \"semantic_type\": \"\",\n        \"description\": \"\"\n      }\n    },\n    {\n      \"column\": \"How many modules have you failed thus far into your studies?\",\n      \"properties\": {\n        \"dtype\": \"category\",\n        \"num_unique_values\": 5,\n        \"samples\": [\n          \"3\",\n          \"2\"\n        ],\n        \"semantic_type\": \"\",\n        \"description\": \"\"\n      }\n    },\n    {\n      \"column\": \"Are you currently in a romantic relationship?\",\n      \"properties\": {\n        \"dtype\": \"category\",\n        \"num_unique_values\": 2,\n        \"samples\": [\n          \"No\",\n          \"Yes\"\n        ],\n        \"semantic_type\": \"\",\n        \"description\": \"\"\n      }\n    },\n    {\n      \"column\": \"Do your parents approve alcohol consumption?\",\n      \"properties\": {\n        \"dtype\": \"category\",\n        \"num_unique_values\": 2,\n        \"samples\": [\n          \"No\",\n          \"Yes\"\n        ],\n        \"semantic_type\": \"\",\n        \"description\": \"\"\n      }\n    },\n    {\n      \"column\": \"How strong is your relationship with your parent/s?\",\n      \"properties\": {\n        \"dtype\": \"category\",\n        \"num_unique_values\": 4,\n        \"samples\": [\n          \"Fair\",\n          \"Distant\"\n        ],\n        \"semantic_type\": \"\",\n        \"description\": \"\"\n      }\n    }\n  ]\n}"
            }
          },
          "metadata": {},
          "execution_count": 3
        }
      ]
    },
    {
      "cell_type": "markdown",
      "source": [
        "## Taking care of missing values if present over here"
      ],
      "metadata": {
        "id": "r1_PQPUJ138M"
      }
    },
    {
      "cell_type": "code",
      "source": [
        "data.isnull().sum()"
      ],
      "metadata": {
        "colab": {
          "base_uri": "https://localhost:8080/"
        },
        "id": "rasjK40c1mAC",
        "outputId": "2a4d6072-811f-411b-ed6c-8520e4c3f965"
      },
      "execution_count": 4,
      "outputs": [
        {
          "output_type": "execute_result",
          "data": {
            "text/plain": [
              "Timestamp                                                                                             0\n",
              "Your Sex?                                                                                             2\n",
              "Your Matric (grade 12) Average/ GPA (in %)                                                            7\n",
              "What year were you in last year (2023) ?                                                             73\n",
              "What faculty does your degree fall under?                                                             7\n",
              "Your 2023 academic year average/GPA in % (Ignore if you are 2024 1st year student)                   86\n",
              "Your Accommodation Status Last Year (2023)                                                           23\n",
              "Monthly Allowance in 2023                                                                            31\n",
              "Were you on scholarship/bursary in 2023?                                                              8\n",
              "Additional amount of studying (in hrs) per week                                                       3\n",
              "How often do you go out partying/socialising during the week?                                         2\n",
              "On a night out, how many alcoholic drinks do you consume?                                             2\n",
              "How many classes do you miss per week due to alcohol reasons, (i.e: being hungover or too tired?)     3\n",
              "How many modules have you failed thus far into your studies?                                          3\n",
              "Are you currently in a romantic relationship?                                                         3\n",
              "Do your parents approve alcohol consumption?                                                          4\n",
              "How strong is your relationship with your parent/s?                                                   3\n",
              "dtype: int64"
            ]
          },
          "metadata": {},
          "execution_count": 4
        }
      ]
    },
    {
      "cell_type": "code",
      "source": [
        "missing_values=[feature for feature in data.columns if data[feature].isnull().sum()>1]\n",
        "for feature in missing_values:\n",
        "  print(feature)"
      ],
      "metadata": {
        "colab": {
          "base_uri": "https://localhost:8080/"
        },
        "id": "XD_lR3dB1mCC",
        "outputId": "d3f5ece3-c9d5-497a-84ad-1fa56811e0c1"
      },
      "execution_count": 5,
      "outputs": [
        {
          "output_type": "stream",
          "name": "stdout",
          "text": [
            "Your Sex?\n",
            "Your Matric (grade 12) Average/ GPA (in %)\n",
            "What year were you in last year (2023) ?\n",
            "What faculty does your degree fall under?\n",
            "Your 2023 academic year average/GPA in % (Ignore if you are 2024 1st year student)\n",
            "Your Accommodation Status Last Year (2023)\n",
            "Monthly Allowance in 2023\n",
            "Were you on scholarship/bursary in 2023?\n",
            "Additional amount of studying (in hrs) per week\n",
            "How often do you go out partying/socialising during the week? \n",
            "On a night out, how many alcoholic drinks do you consume?\n",
            "How many classes do you miss per week due to alcohol reasons, (i.e: being hungover or too tired?)\n",
            "How many modules have you failed thus far into your studies?\n",
            "Are you currently in a romantic relationship?\n",
            "Do your parents approve alcohol consumption?\n",
            "How strong is your relationship with your parent/s?\n"
          ]
        }
      ]
    },
    {
      "cell_type": "code",
      "source": [
        "data.dropna(inplace=True)"
      ],
      "metadata": {
        "id": "AvaHHJpk1mCt"
      },
      "execution_count": 6,
      "outputs": []
    },
    {
      "cell_type": "code",
      "source": [
        "data.isnull().sum()"
      ],
      "metadata": {
        "colab": {
          "base_uri": "https://localhost:8080/"
        },
        "id": "yzJTjCw_1mE6",
        "outputId": "9fafd9d9-34c6-453d-97f3-8c9ecae90e97"
      },
      "execution_count": 7,
      "outputs": [
        {
          "output_type": "execute_result",
          "data": {
            "text/plain": [
              "Timestamp                                                                                            0\n",
              "Your Sex?                                                                                            0\n",
              "Your Matric (grade 12) Average/ GPA (in %)                                                           0\n",
              "What year were you in last year (2023) ?                                                             0\n",
              "What faculty does your degree fall under?                                                            0\n",
              "Your 2023 academic year average/GPA in % (Ignore if you are 2024 1st year student)                   0\n",
              "Your Accommodation Status Last Year (2023)                                                           0\n",
              "Monthly Allowance in 2023                                                                            0\n",
              "Were you on scholarship/bursary in 2023?                                                             0\n",
              "Additional amount of studying (in hrs) per week                                                      0\n",
              "How often do you go out partying/socialising during the week?                                        0\n",
              "On a night out, how many alcoholic drinks do you consume?                                            0\n",
              "How many classes do you miss per week due to alcohol reasons, (i.e: being hungover or too tired?)    0\n",
              "How many modules have you failed thus far into your studies?                                         0\n",
              "Are you currently in a romantic relationship?                                                        0\n",
              "Do your parents approve alcohol consumption?                                                         0\n",
              "How strong is your relationship with your parent/s?                                                  0\n",
              "dtype: int64"
            ]
          },
          "metadata": {},
          "execution_count": 7
        }
      ]
    },
    {
      "cell_type": "markdown",
      "source": [
        "## Taking care of duplicate observations if present over here"
      ],
      "metadata": {
        "id": "eGv7OK932M8g"
      }
    },
    {
      "cell_type": "code",
      "source": [
        "data.duplicated().sum()"
      ],
      "metadata": {
        "colab": {
          "base_uri": "https://localhost:8080/"
        },
        "id": "uKuoldW22HL0",
        "outputId": "910133b8-c19d-42f6-ea0b-5eeafbb15c94"
      },
      "execution_count": 8,
      "outputs": [
        {
          "output_type": "execute_result",
          "data": {
            "text/plain": [
              "0"
            ]
          },
          "metadata": {},
          "execution_count": 8
        }
      ]
    },
    {
      "cell_type": "markdown",
      "source": [
        "## Filtering all the numerical features over here"
      ],
      "metadata": {
        "id": "IG5S2JMl2ToJ"
      }
    },
    {
      "cell_type": "code",
      "source": [
        "numerical_features=[feature for feature in data.columns if data[feature].dtype!='O']\n",
        "for feature in numerical_features:\n",
        "  print(feature)"
      ],
      "metadata": {
        "colab": {
          "base_uri": "https://localhost:8080/"
        },
        "id": "DKv51jrL2Hlv",
        "outputId": "7ea7a054-735d-4759-b609-58700519ffcf"
      },
      "execution_count": 9,
      "outputs": [
        {
          "output_type": "stream",
          "name": "stdout",
          "text": [
            "Your Matric (grade 12) Average/ GPA (in %)\n",
            "Your 2023 academic year average/GPA in % (Ignore if you are 2024 1st year student)\n"
          ]
        }
      ]
    },
    {
      "cell_type": "code",
      "source": [
        "data[numerical_features]"
      ],
      "metadata": {
        "colab": {
          "base_uri": "https://localhost:8080/",
          "height": 423
        },
        "id": "yFBZKQie2HoX",
        "outputId": "d3f2306c-6288-40ff-b7ef-76371eb36219"
      },
      "execution_count": 10,
      "outputs": [
        {
          "output_type": "execute_result",
          "data": {
            "text/plain": [
              "     Your Matric (grade 12) Average/ GPA (in %)  \\\n",
              "0                                          76.0   \n",
              "1                                          89.0   \n",
              "2                                          76.0   \n",
              "3                                          89.0   \n",
              "4                                          74.0   \n",
              "..                                          ...   \n",
              "395                                        75.0   \n",
              "396                                        78.0   \n",
              "397                                        86.0   \n",
              "398                                        74.0   \n",
              "402                                        73.0   \n",
              "\n",
              "     Your 2023 academic year average/GPA in % (Ignore if you are 2024 1st year student)  \n",
              "0                                                 72.0                                   \n",
              "1                                                 75.0                                   \n",
              "2                                                 55.0                                   \n",
              "3                                                 84.0                                   \n",
              "4                                                 52.0                                   \n",
              "..                                                 ...                                   \n",
              "395                                               80.0                                   \n",
              "396                                               74.0                                   \n",
              "397                                               70.0                                   \n",
              "398                                               60.0                                   \n",
              "402                                               58.0                                   \n",
              "\n",
              "[295 rows x 2 columns]"
            ],
            "text/html": [
              "\n",
              "  <div id=\"df-23685797-8bf6-49c0-b534-3db604fd486f\" class=\"colab-df-container\">\n",
              "    <div>\n",
              "<style scoped>\n",
              "    .dataframe tbody tr th:only-of-type {\n",
              "        vertical-align: middle;\n",
              "    }\n",
              "\n",
              "    .dataframe tbody tr th {\n",
              "        vertical-align: top;\n",
              "    }\n",
              "\n",
              "    .dataframe thead th {\n",
              "        text-align: right;\n",
              "    }\n",
              "</style>\n",
              "<table border=\"1\" class=\"dataframe\">\n",
              "  <thead>\n",
              "    <tr style=\"text-align: right;\">\n",
              "      <th></th>\n",
              "      <th>Your Matric (grade 12) Average/ GPA (in %)</th>\n",
              "      <th>Your 2023 academic year average/GPA in % (Ignore if you are 2024 1st year student)</th>\n",
              "    </tr>\n",
              "  </thead>\n",
              "  <tbody>\n",
              "    <tr>\n",
              "      <th>0</th>\n",
              "      <td>76.0</td>\n",
              "      <td>72.0</td>\n",
              "    </tr>\n",
              "    <tr>\n",
              "      <th>1</th>\n",
              "      <td>89.0</td>\n",
              "      <td>75.0</td>\n",
              "    </tr>\n",
              "    <tr>\n",
              "      <th>2</th>\n",
              "      <td>76.0</td>\n",
              "      <td>55.0</td>\n",
              "    </tr>\n",
              "    <tr>\n",
              "      <th>3</th>\n",
              "      <td>89.0</td>\n",
              "      <td>84.0</td>\n",
              "    </tr>\n",
              "    <tr>\n",
              "      <th>4</th>\n",
              "      <td>74.0</td>\n",
              "      <td>52.0</td>\n",
              "    </tr>\n",
              "    <tr>\n",
              "      <th>...</th>\n",
              "      <td>...</td>\n",
              "      <td>...</td>\n",
              "    </tr>\n",
              "    <tr>\n",
              "      <th>395</th>\n",
              "      <td>75.0</td>\n",
              "      <td>80.0</td>\n",
              "    </tr>\n",
              "    <tr>\n",
              "      <th>396</th>\n",
              "      <td>78.0</td>\n",
              "      <td>74.0</td>\n",
              "    </tr>\n",
              "    <tr>\n",
              "      <th>397</th>\n",
              "      <td>86.0</td>\n",
              "      <td>70.0</td>\n",
              "    </tr>\n",
              "    <tr>\n",
              "      <th>398</th>\n",
              "      <td>74.0</td>\n",
              "      <td>60.0</td>\n",
              "    </tr>\n",
              "    <tr>\n",
              "      <th>402</th>\n",
              "      <td>73.0</td>\n",
              "      <td>58.0</td>\n",
              "    </tr>\n",
              "  </tbody>\n",
              "</table>\n",
              "<p>295 rows × 2 columns</p>\n",
              "</div>\n",
              "    <div class=\"colab-df-buttons\">\n",
              "\n",
              "  <div class=\"colab-df-container\">\n",
              "    <button class=\"colab-df-convert\" onclick=\"convertToInteractive('df-23685797-8bf6-49c0-b534-3db604fd486f')\"\n",
              "            title=\"Convert this dataframe to an interactive table.\"\n",
              "            style=\"display:none;\">\n",
              "\n",
              "  <svg xmlns=\"http://www.w3.org/2000/svg\" height=\"24px\" viewBox=\"0 -960 960 960\">\n",
              "    <path d=\"M120-120v-720h720v720H120Zm60-500h600v-160H180v160Zm220 220h160v-160H400v160Zm0 220h160v-160H400v160ZM180-400h160v-160H180v160Zm440 0h160v-160H620v160ZM180-180h160v-160H180v160Zm440 0h160v-160H620v160Z\"/>\n",
              "  </svg>\n",
              "    </button>\n",
              "\n",
              "  <style>\n",
              "    .colab-df-container {\n",
              "      display:flex;\n",
              "      gap: 12px;\n",
              "    }\n",
              "\n",
              "    .colab-df-convert {\n",
              "      background-color: #E8F0FE;\n",
              "      border: none;\n",
              "      border-radius: 50%;\n",
              "      cursor: pointer;\n",
              "      display: none;\n",
              "      fill: #1967D2;\n",
              "      height: 32px;\n",
              "      padding: 0 0 0 0;\n",
              "      width: 32px;\n",
              "    }\n",
              "\n",
              "    .colab-df-convert:hover {\n",
              "      background-color: #E2EBFA;\n",
              "      box-shadow: 0px 1px 2px rgba(60, 64, 67, 0.3), 0px 1px 3px 1px rgba(60, 64, 67, 0.15);\n",
              "      fill: #174EA6;\n",
              "    }\n",
              "\n",
              "    .colab-df-buttons div {\n",
              "      margin-bottom: 4px;\n",
              "    }\n",
              "\n",
              "    [theme=dark] .colab-df-convert {\n",
              "      background-color: #3B4455;\n",
              "      fill: #D2E3FC;\n",
              "    }\n",
              "\n",
              "    [theme=dark] .colab-df-convert:hover {\n",
              "      background-color: #434B5C;\n",
              "      box-shadow: 0px 1px 3px 1px rgba(0, 0, 0, 0.15);\n",
              "      filter: drop-shadow(0px 1px 2px rgba(0, 0, 0, 0.3));\n",
              "      fill: #FFFFFF;\n",
              "    }\n",
              "  </style>\n",
              "\n",
              "    <script>\n",
              "      const buttonEl =\n",
              "        document.querySelector('#df-23685797-8bf6-49c0-b534-3db604fd486f button.colab-df-convert');\n",
              "      buttonEl.style.display =\n",
              "        google.colab.kernel.accessAllowed ? 'block' : 'none';\n",
              "\n",
              "      async function convertToInteractive(key) {\n",
              "        const element = document.querySelector('#df-23685797-8bf6-49c0-b534-3db604fd486f');\n",
              "        const dataTable =\n",
              "          await google.colab.kernel.invokeFunction('convertToInteractive',\n",
              "                                                    [key], {});\n",
              "        if (!dataTable) return;\n",
              "\n",
              "        const docLinkHtml = 'Like what you see? Visit the ' +\n",
              "          '<a target=\"_blank\" href=https://colab.research.google.com/notebooks/data_table.ipynb>data table notebook</a>'\n",
              "          + ' to learn more about interactive tables.';\n",
              "        element.innerHTML = '';\n",
              "        dataTable['output_type'] = 'display_data';\n",
              "        await google.colab.output.renderOutput(dataTable, element);\n",
              "        const docLink = document.createElement('div');\n",
              "        docLink.innerHTML = docLinkHtml;\n",
              "        element.appendChild(docLink);\n",
              "      }\n",
              "    </script>\n",
              "  </div>\n",
              "\n",
              "\n",
              "<div id=\"df-7c3434c8-fddf-429b-9f0d-1aff0ea0d67e\">\n",
              "  <button class=\"colab-df-quickchart\" onclick=\"quickchart('df-7c3434c8-fddf-429b-9f0d-1aff0ea0d67e')\"\n",
              "            title=\"Suggest charts\"\n",
              "            style=\"display:none;\">\n",
              "\n",
              "<svg xmlns=\"http://www.w3.org/2000/svg\" height=\"24px\"viewBox=\"0 0 24 24\"\n",
              "     width=\"24px\">\n",
              "    <g>\n",
              "        <path d=\"M19 3H5c-1.1 0-2 .9-2 2v14c0 1.1.9 2 2 2h14c1.1 0 2-.9 2-2V5c0-1.1-.9-2-2-2zM9 17H7v-7h2v7zm4 0h-2V7h2v10zm4 0h-2v-4h2v4z\"/>\n",
              "    </g>\n",
              "</svg>\n",
              "  </button>\n",
              "\n",
              "<style>\n",
              "  .colab-df-quickchart {\n",
              "      --bg-color: #E8F0FE;\n",
              "      --fill-color: #1967D2;\n",
              "      --hover-bg-color: #E2EBFA;\n",
              "      --hover-fill-color: #174EA6;\n",
              "      --disabled-fill-color: #AAA;\n",
              "      --disabled-bg-color: #DDD;\n",
              "  }\n",
              "\n",
              "  [theme=dark] .colab-df-quickchart {\n",
              "      --bg-color: #3B4455;\n",
              "      --fill-color: #D2E3FC;\n",
              "      --hover-bg-color: #434B5C;\n",
              "      --hover-fill-color: #FFFFFF;\n",
              "      --disabled-bg-color: #3B4455;\n",
              "      --disabled-fill-color: #666;\n",
              "  }\n",
              "\n",
              "  .colab-df-quickchart {\n",
              "    background-color: var(--bg-color);\n",
              "    border: none;\n",
              "    border-radius: 50%;\n",
              "    cursor: pointer;\n",
              "    display: none;\n",
              "    fill: var(--fill-color);\n",
              "    height: 32px;\n",
              "    padding: 0;\n",
              "    width: 32px;\n",
              "  }\n",
              "\n",
              "  .colab-df-quickchart:hover {\n",
              "    background-color: var(--hover-bg-color);\n",
              "    box-shadow: 0 1px 2px rgba(60, 64, 67, 0.3), 0 1px 3px 1px rgba(60, 64, 67, 0.15);\n",
              "    fill: var(--button-hover-fill-color);\n",
              "  }\n",
              "\n",
              "  .colab-df-quickchart-complete:disabled,\n",
              "  .colab-df-quickchart-complete:disabled:hover {\n",
              "    background-color: var(--disabled-bg-color);\n",
              "    fill: var(--disabled-fill-color);\n",
              "    box-shadow: none;\n",
              "  }\n",
              "\n",
              "  .colab-df-spinner {\n",
              "    border: 2px solid var(--fill-color);\n",
              "    border-color: transparent;\n",
              "    border-bottom-color: var(--fill-color);\n",
              "    animation:\n",
              "      spin 1s steps(1) infinite;\n",
              "  }\n",
              "\n",
              "  @keyframes spin {\n",
              "    0% {\n",
              "      border-color: transparent;\n",
              "      border-bottom-color: var(--fill-color);\n",
              "      border-left-color: var(--fill-color);\n",
              "    }\n",
              "    20% {\n",
              "      border-color: transparent;\n",
              "      border-left-color: var(--fill-color);\n",
              "      border-top-color: var(--fill-color);\n",
              "    }\n",
              "    30% {\n",
              "      border-color: transparent;\n",
              "      border-left-color: var(--fill-color);\n",
              "      border-top-color: var(--fill-color);\n",
              "      border-right-color: var(--fill-color);\n",
              "    }\n",
              "    40% {\n",
              "      border-color: transparent;\n",
              "      border-right-color: var(--fill-color);\n",
              "      border-top-color: var(--fill-color);\n",
              "    }\n",
              "    60% {\n",
              "      border-color: transparent;\n",
              "      border-right-color: var(--fill-color);\n",
              "    }\n",
              "    80% {\n",
              "      border-color: transparent;\n",
              "      border-right-color: var(--fill-color);\n",
              "      border-bottom-color: var(--fill-color);\n",
              "    }\n",
              "    90% {\n",
              "      border-color: transparent;\n",
              "      border-bottom-color: var(--fill-color);\n",
              "    }\n",
              "  }\n",
              "</style>\n",
              "\n",
              "  <script>\n",
              "    async function quickchart(key) {\n",
              "      const quickchartButtonEl =\n",
              "        document.querySelector('#' + key + ' button');\n",
              "      quickchartButtonEl.disabled = true;  // To prevent multiple clicks.\n",
              "      quickchartButtonEl.classList.add('colab-df-spinner');\n",
              "      try {\n",
              "        const charts = await google.colab.kernel.invokeFunction(\n",
              "            'suggestCharts', [key], {});\n",
              "      } catch (error) {\n",
              "        console.error('Error during call to suggestCharts:', error);\n",
              "      }\n",
              "      quickchartButtonEl.classList.remove('colab-df-spinner');\n",
              "      quickchartButtonEl.classList.add('colab-df-quickchart-complete');\n",
              "    }\n",
              "    (() => {\n",
              "      let quickchartButtonEl =\n",
              "        document.querySelector('#df-7c3434c8-fddf-429b-9f0d-1aff0ea0d67e button');\n",
              "      quickchartButtonEl.style.display =\n",
              "        google.colab.kernel.accessAllowed ? 'block' : 'none';\n",
              "    })();\n",
              "  </script>\n",
              "</div>\n",
              "\n",
              "    </div>\n",
              "  </div>\n"
            ],
            "application/vnd.google.colaboratory.intrinsic+json": {
              "type": "dataframe",
              "summary": "{\n  \"name\": \"data[numerical_features]\",\n  \"rows\": 295,\n  \"fields\": [\n    {\n      \"column\": \"Your Matric (grade 12) Average/ GPA (in %)\",\n      \"properties\": {\n        \"dtype\": \"number\",\n        \"std\": 6.5774609349637565,\n        \"min\": 60.0,\n        \"max\": 99.0,\n        \"num_unique_values\": 38,\n        \"samples\": [\n          60.0,\n          66.0,\n          85.0\n        ],\n        \"semantic_type\": \"\",\n        \"description\": \"\"\n      }\n    },\n    {\n      \"column\": \"Your 2023 academic year average/GPA in % (Ignore if you are 2024 1st year student)\",\n      \"properties\": {\n        \"dtype\": \"number\",\n        \"std\": 9.32899724118919,\n        \"min\": 30.0,\n        \"max\": 95.22,\n        \"num_unique_values\": 44,\n        \"samples\": [\n          92.0,\n          95.22,\n          71.0\n        ],\n        \"semantic_type\": \"\",\n        \"description\": \"\"\n      }\n    }\n  ]\n}"
            }
          },
          "metadata": {},
          "execution_count": 10
        }
      ]
    },
    {
      "cell_type": "markdown",
      "source": [
        "## Filtering all the categorical features over here"
      ],
      "metadata": {
        "id": "5-IXA8sa2hhj"
      }
    },
    {
      "cell_type": "code",
      "source": [
        "cat_features=[feature for feature in data.columns if data[feature].dtype=='O']\n",
        "for feature in cat_features:\n",
        "  print(feature)"
      ],
      "metadata": {
        "colab": {
          "base_uri": "https://localhost:8080/"
        },
        "id": "jLogc3nD2HrH",
        "outputId": "b464b3e3-e987-40a5-a29a-8c6e7a4c92df"
      },
      "execution_count": 11,
      "outputs": [
        {
          "output_type": "stream",
          "name": "stdout",
          "text": [
            "Timestamp\n",
            "Your Sex?\n",
            "What year were you in last year (2023) ?\n",
            "What faculty does your degree fall under?\n",
            "Your Accommodation Status Last Year (2023)\n",
            "Monthly Allowance in 2023\n",
            "Were you on scholarship/bursary in 2023?\n",
            "Additional amount of studying (in hrs) per week\n",
            "How often do you go out partying/socialising during the week? \n",
            "On a night out, how many alcoholic drinks do you consume?\n",
            "How many classes do you miss per week due to alcohol reasons, (i.e: being hungover or too tired?)\n",
            "How many modules have you failed thus far into your studies?\n",
            "Are you currently in a romantic relationship?\n",
            "Do your parents approve alcohol consumption?\n",
            "How strong is your relationship with your parent/s?\n"
          ]
        }
      ]
    },
    {
      "cell_type": "code",
      "source": [
        "data[cat_features].head(2)"
      ],
      "metadata": {
        "colab": {
          "base_uri": "https://localhost:8080/",
          "height": 444
        },
        "id": "SdQrOtfH2Htw",
        "outputId": "62339814-e481-4646-a0ca-ef5ac900dcd5"
      },
      "execution_count": 12,
      "outputs": [
        {
          "output_type": "execute_result",
          "data": {
            "text/plain": [
              "                   Timestamp Your Sex?  \\\n",
              "0  2024/03/07 5:12:01 pm EET    Female   \n",
              "1  2024/03/07 5:12:08 pm EET      Male   \n",
              "\n",
              "  What year were you in last year (2023) ?  \\\n",
              "0                                 2nd Year   \n",
              "1                                 2nd Year   \n",
              "\n",
              "  What faculty does your degree fall under?  \\\n",
              "0                    Arts & Social Sciences   \n",
              "1            Economic & Management Sciences   \n",
              "\n",
              "        Your Accommodation Status Last Year (2023) Monthly Allowance in 2023  \\\n",
              "0  Private accommodation/ stay with family/friends            R 4001- R 5000   \n",
              "1  Private accommodation/ stay with family/friends           R 7001 - R 8000   \n",
              "\n",
              "  Were you on scholarship/bursary in 2023?  \\\n",
              "0                                       No   \n",
              "1                      Yes (NSFAS, etc...)   \n",
              "\n",
              "  Additional amount of studying (in hrs) per week  \\\n",
              "0                                              8+   \n",
              "1                                              8+   \n",
              "\n",
              "  How often do you go out partying/socialising during the week?   \\\n",
              "0                                      Only weekends               \n",
              "1                                      Only weekends               \n",
              "\n",
              "  On a night out, how many alcoholic drinks do you consume?  \\\n",
              "0                                                 8+          \n",
              "1                                                3-5          \n",
              "\n",
              "  How many classes do you miss per week due to alcohol reasons, (i.e: being hungover or too tired?)  \\\n",
              "0                                                  3                                                  \n",
              "1                                                 4+                                                  \n",
              "\n",
              "  How many modules have you failed thus far into your studies?  \\\n",
              "0                                                  0             \n",
              "1                                                  0             \n",
              "\n",
              "  Are you currently in a romantic relationship?  \\\n",
              "0                                           Yes   \n",
              "1                                            No   \n",
              "\n",
              "  Do your parents approve alcohol consumption?  \\\n",
              "0                                          Yes   \n",
              "1                                          Yes   \n",
              "\n",
              "  How strong is your relationship with your parent/s?  \n",
              "0                                         Very close   \n",
              "1                                         Very close   "
            ],
            "text/html": [
              "\n",
              "  <div id=\"df-51b90847-6069-4108-83e4-e18a75e6d39d\" class=\"colab-df-container\">\n",
              "    <div>\n",
              "<style scoped>\n",
              "    .dataframe tbody tr th:only-of-type {\n",
              "        vertical-align: middle;\n",
              "    }\n",
              "\n",
              "    .dataframe tbody tr th {\n",
              "        vertical-align: top;\n",
              "    }\n",
              "\n",
              "    .dataframe thead th {\n",
              "        text-align: right;\n",
              "    }\n",
              "</style>\n",
              "<table border=\"1\" class=\"dataframe\">\n",
              "  <thead>\n",
              "    <tr style=\"text-align: right;\">\n",
              "      <th></th>\n",
              "      <th>Timestamp</th>\n",
              "      <th>Your Sex?</th>\n",
              "      <th>What year were you in last year (2023) ?</th>\n",
              "      <th>What faculty does your degree fall under?</th>\n",
              "      <th>Your Accommodation Status Last Year (2023)</th>\n",
              "      <th>Monthly Allowance in 2023</th>\n",
              "      <th>Were you on scholarship/bursary in 2023?</th>\n",
              "      <th>Additional amount of studying (in hrs) per week</th>\n",
              "      <th>How often do you go out partying/socialising during the week?</th>\n",
              "      <th>On a night out, how many alcoholic drinks do you consume?</th>\n",
              "      <th>How many classes do you miss per week due to alcohol reasons, (i.e: being hungover or too tired?)</th>\n",
              "      <th>How many modules have you failed thus far into your studies?</th>\n",
              "      <th>Are you currently in a romantic relationship?</th>\n",
              "      <th>Do your parents approve alcohol consumption?</th>\n",
              "      <th>How strong is your relationship with your parent/s?</th>\n",
              "    </tr>\n",
              "  </thead>\n",
              "  <tbody>\n",
              "    <tr>\n",
              "      <th>0</th>\n",
              "      <td>2024/03/07 5:12:01 pm EET</td>\n",
              "      <td>Female</td>\n",
              "      <td>2nd Year</td>\n",
              "      <td>Arts &amp; Social Sciences</td>\n",
              "      <td>Private accommodation/ stay with family/friends</td>\n",
              "      <td>R 4001- R 5000</td>\n",
              "      <td>No</td>\n",
              "      <td>8+</td>\n",
              "      <td>Only weekends</td>\n",
              "      <td>8+</td>\n",
              "      <td>3</td>\n",
              "      <td>0</td>\n",
              "      <td>Yes</td>\n",
              "      <td>Yes</td>\n",
              "      <td>Very close</td>\n",
              "    </tr>\n",
              "    <tr>\n",
              "      <th>1</th>\n",
              "      <td>2024/03/07 5:12:08 pm EET</td>\n",
              "      <td>Male</td>\n",
              "      <td>2nd Year</td>\n",
              "      <td>Economic &amp; Management Sciences</td>\n",
              "      <td>Private accommodation/ stay with family/friends</td>\n",
              "      <td>R 7001 - R 8000</td>\n",
              "      <td>Yes (NSFAS, etc...)</td>\n",
              "      <td>8+</td>\n",
              "      <td>Only weekends</td>\n",
              "      <td>3-5</td>\n",
              "      <td>4+</td>\n",
              "      <td>0</td>\n",
              "      <td>No</td>\n",
              "      <td>Yes</td>\n",
              "      <td>Very close</td>\n",
              "    </tr>\n",
              "  </tbody>\n",
              "</table>\n",
              "</div>\n",
              "    <div class=\"colab-df-buttons\">\n",
              "\n",
              "  <div class=\"colab-df-container\">\n",
              "    <button class=\"colab-df-convert\" onclick=\"convertToInteractive('df-51b90847-6069-4108-83e4-e18a75e6d39d')\"\n",
              "            title=\"Convert this dataframe to an interactive table.\"\n",
              "            style=\"display:none;\">\n",
              "\n",
              "  <svg xmlns=\"http://www.w3.org/2000/svg\" height=\"24px\" viewBox=\"0 -960 960 960\">\n",
              "    <path d=\"M120-120v-720h720v720H120Zm60-500h600v-160H180v160Zm220 220h160v-160H400v160Zm0 220h160v-160H400v160ZM180-400h160v-160H180v160Zm440 0h160v-160H620v160ZM180-180h160v-160H180v160Zm440 0h160v-160H620v160Z\"/>\n",
              "  </svg>\n",
              "    </button>\n",
              "\n",
              "  <style>\n",
              "    .colab-df-container {\n",
              "      display:flex;\n",
              "      gap: 12px;\n",
              "    }\n",
              "\n",
              "    .colab-df-convert {\n",
              "      background-color: #E8F0FE;\n",
              "      border: none;\n",
              "      border-radius: 50%;\n",
              "      cursor: pointer;\n",
              "      display: none;\n",
              "      fill: #1967D2;\n",
              "      height: 32px;\n",
              "      padding: 0 0 0 0;\n",
              "      width: 32px;\n",
              "    }\n",
              "\n",
              "    .colab-df-convert:hover {\n",
              "      background-color: #E2EBFA;\n",
              "      box-shadow: 0px 1px 2px rgba(60, 64, 67, 0.3), 0px 1px 3px 1px rgba(60, 64, 67, 0.15);\n",
              "      fill: #174EA6;\n",
              "    }\n",
              "\n",
              "    .colab-df-buttons div {\n",
              "      margin-bottom: 4px;\n",
              "    }\n",
              "\n",
              "    [theme=dark] .colab-df-convert {\n",
              "      background-color: #3B4455;\n",
              "      fill: #D2E3FC;\n",
              "    }\n",
              "\n",
              "    [theme=dark] .colab-df-convert:hover {\n",
              "      background-color: #434B5C;\n",
              "      box-shadow: 0px 1px 3px 1px rgba(0, 0, 0, 0.15);\n",
              "      filter: drop-shadow(0px 1px 2px rgba(0, 0, 0, 0.3));\n",
              "      fill: #FFFFFF;\n",
              "    }\n",
              "  </style>\n",
              "\n",
              "    <script>\n",
              "      const buttonEl =\n",
              "        document.querySelector('#df-51b90847-6069-4108-83e4-e18a75e6d39d button.colab-df-convert');\n",
              "      buttonEl.style.display =\n",
              "        google.colab.kernel.accessAllowed ? 'block' : 'none';\n",
              "\n",
              "      async function convertToInteractive(key) {\n",
              "        const element = document.querySelector('#df-51b90847-6069-4108-83e4-e18a75e6d39d');\n",
              "        const dataTable =\n",
              "          await google.colab.kernel.invokeFunction('convertToInteractive',\n",
              "                                                    [key], {});\n",
              "        if (!dataTable) return;\n",
              "\n",
              "        const docLinkHtml = 'Like what you see? Visit the ' +\n",
              "          '<a target=\"_blank\" href=https://colab.research.google.com/notebooks/data_table.ipynb>data table notebook</a>'\n",
              "          + ' to learn more about interactive tables.';\n",
              "        element.innerHTML = '';\n",
              "        dataTable['output_type'] = 'display_data';\n",
              "        await google.colab.output.renderOutput(dataTable, element);\n",
              "        const docLink = document.createElement('div');\n",
              "        docLink.innerHTML = docLinkHtml;\n",
              "        element.appendChild(docLink);\n",
              "      }\n",
              "    </script>\n",
              "  </div>\n",
              "\n",
              "\n",
              "<div id=\"df-8a87f001-aaa4-4b6c-9583-760684fc65e2\">\n",
              "  <button class=\"colab-df-quickchart\" onclick=\"quickchart('df-8a87f001-aaa4-4b6c-9583-760684fc65e2')\"\n",
              "            title=\"Suggest charts\"\n",
              "            style=\"display:none;\">\n",
              "\n",
              "<svg xmlns=\"http://www.w3.org/2000/svg\" height=\"24px\"viewBox=\"0 0 24 24\"\n",
              "     width=\"24px\">\n",
              "    <g>\n",
              "        <path d=\"M19 3H5c-1.1 0-2 .9-2 2v14c0 1.1.9 2 2 2h14c1.1 0 2-.9 2-2V5c0-1.1-.9-2-2-2zM9 17H7v-7h2v7zm4 0h-2V7h2v10zm4 0h-2v-4h2v4z\"/>\n",
              "    </g>\n",
              "</svg>\n",
              "  </button>\n",
              "\n",
              "<style>\n",
              "  .colab-df-quickchart {\n",
              "      --bg-color: #E8F0FE;\n",
              "      --fill-color: #1967D2;\n",
              "      --hover-bg-color: #E2EBFA;\n",
              "      --hover-fill-color: #174EA6;\n",
              "      --disabled-fill-color: #AAA;\n",
              "      --disabled-bg-color: #DDD;\n",
              "  }\n",
              "\n",
              "  [theme=dark] .colab-df-quickchart {\n",
              "      --bg-color: #3B4455;\n",
              "      --fill-color: #D2E3FC;\n",
              "      --hover-bg-color: #434B5C;\n",
              "      --hover-fill-color: #FFFFFF;\n",
              "      --disabled-bg-color: #3B4455;\n",
              "      --disabled-fill-color: #666;\n",
              "  }\n",
              "\n",
              "  .colab-df-quickchart {\n",
              "    background-color: var(--bg-color);\n",
              "    border: none;\n",
              "    border-radius: 50%;\n",
              "    cursor: pointer;\n",
              "    display: none;\n",
              "    fill: var(--fill-color);\n",
              "    height: 32px;\n",
              "    padding: 0;\n",
              "    width: 32px;\n",
              "  }\n",
              "\n",
              "  .colab-df-quickchart:hover {\n",
              "    background-color: var(--hover-bg-color);\n",
              "    box-shadow: 0 1px 2px rgba(60, 64, 67, 0.3), 0 1px 3px 1px rgba(60, 64, 67, 0.15);\n",
              "    fill: var(--button-hover-fill-color);\n",
              "  }\n",
              "\n",
              "  .colab-df-quickchart-complete:disabled,\n",
              "  .colab-df-quickchart-complete:disabled:hover {\n",
              "    background-color: var(--disabled-bg-color);\n",
              "    fill: var(--disabled-fill-color);\n",
              "    box-shadow: none;\n",
              "  }\n",
              "\n",
              "  .colab-df-spinner {\n",
              "    border: 2px solid var(--fill-color);\n",
              "    border-color: transparent;\n",
              "    border-bottom-color: var(--fill-color);\n",
              "    animation:\n",
              "      spin 1s steps(1) infinite;\n",
              "  }\n",
              "\n",
              "  @keyframes spin {\n",
              "    0% {\n",
              "      border-color: transparent;\n",
              "      border-bottom-color: var(--fill-color);\n",
              "      border-left-color: var(--fill-color);\n",
              "    }\n",
              "    20% {\n",
              "      border-color: transparent;\n",
              "      border-left-color: var(--fill-color);\n",
              "      border-top-color: var(--fill-color);\n",
              "    }\n",
              "    30% {\n",
              "      border-color: transparent;\n",
              "      border-left-color: var(--fill-color);\n",
              "      border-top-color: var(--fill-color);\n",
              "      border-right-color: var(--fill-color);\n",
              "    }\n",
              "    40% {\n",
              "      border-color: transparent;\n",
              "      border-right-color: var(--fill-color);\n",
              "      border-top-color: var(--fill-color);\n",
              "    }\n",
              "    60% {\n",
              "      border-color: transparent;\n",
              "      border-right-color: var(--fill-color);\n",
              "    }\n",
              "    80% {\n",
              "      border-color: transparent;\n",
              "      border-right-color: var(--fill-color);\n",
              "      border-bottom-color: var(--fill-color);\n",
              "    }\n",
              "    90% {\n",
              "      border-color: transparent;\n",
              "      border-bottom-color: var(--fill-color);\n",
              "    }\n",
              "  }\n",
              "</style>\n",
              "\n",
              "  <script>\n",
              "    async function quickchart(key) {\n",
              "      const quickchartButtonEl =\n",
              "        document.querySelector('#' + key + ' button');\n",
              "      quickchartButtonEl.disabled = true;  // To prevent multiple clicks.\n",
              "      quickchartButtonEl.classList.add('colab-df-spinner');\n",
              "      try {\n",
              "        const charts = await google.colab.kernel.invokeFunction(\n",
              "            'suggestCharts', [key], {});\n",
              "      } catch (error) {\n",
              "        console.error('Error during call to suggestCharts:', error);\n",
              "      }\n",
              "      quickchartButtonEl.classList.remove('colab-df-spinner');\n",
              "      quickchartButtonEl.classList.add('colab-df-quickchart-complete');\n",
              "    }\n",
              "    (() => {\n",
              "      let quickchartButtonEl =\n",
              "        document.querySelector('#df-8a87f001-aaa4-4b6c-9583-760684fc65e2 button');\n",
              "      quickchartButtonEl.style.display =\n",
              "        google.colab.kernel.accessAllowed ? 'block' : 'none';\n",
              "    })();\n",
              "  </script>\n",
              "</div>\n",
              "\n",
              "    </div>\n",
              "  </div>\n"
            ],
            "application/vnd.google.colaboratory.intrinsic+json": {
              "type": "dataframe",
              "summary": "{\n  \"name\": \"data[cat_features]\",\n  \"rows\": 2,\n  \"fields\": [\n    {\n      \"column\": \"Timestamp\",\n      \"properties\": {\n        \"dtype\": \"object\",\n        \"num_unique_values\": 2,\n        \"samples\": [\n          \"2024/03/07 5:12:08 pm EET\",\n          \"2024/03/07 5:12:01 pm EET\"\n        ],\n        \"semantic_type\": \"\",\n        \"description\": \"\"\n      }\n    },\n    {\n      \"column\": \"Your Sex?\",\n      \"properties\": {\n        \"dtype\": \"string\",\n        \"num_unique_values\": 2,\n        \"samples\": [\n          \"Male\",\n          \"Female\"\n        ],\n        \"semantic_type\": \"\",\n        \"description\": \"\"\n      }\n    },\n    {\n      \"column\": \"What year were you in last year (2023) ?\",\n      \"properties\": {\n        \"dtype\": \"string\",\n        \"num_unique_values\": 1,\n        \"samples\": [\n          \"2nd Year\"\n        ],\n        \"semantic_type\": \"\",\n        \"description\": \"\"\n      }\n    },\n    {\n      \"column\": \"What faculty does your degree fall under?\",\n      \"properties\": {\n        \"dtype\": \"string\",\n        \"num_unique_values\": 2,\n        \"samples\": [\n          \"Economic & Management Sciences\"\n        ],\n        \"semantic_type\": \"\",\n        \"description\": \"\"\n      }\n    },\n    {\n      \"column\": \"Your Accommodation Status Last Year (2023)\",\n      \"properties\": {\n        \"dtype\": \"string\",\n        \"num_unique_values\": 1,\n        \"samples\": [\n          \"Private accommodation/ stay with family/friends\"\n        ],\n        \"semantic_type\": \"\",\n        \"description\": \"\"\n      }\n    },\n    {\n      \"column\": \"Monthly Allowance in 2023\",\n      \"properties\": {\n        \"dtype\": \"string\",\n        \"num_unique_values\": 2,\n        \"samples\": [\n          \"R 7001 - R 8000\"\n        ],\n        \"semantic_type\": \"\",\n        \"description\": \"\"\n      }\n    },\n    {\n      \"column\": \"Were you on scholarship/bursary in 2023?\",\n      \"properties\": {\n        \"dtype\": \"string\",\n        \"num_unique_values\": 2,\n        \"samples\": [\n          \"Yes (NSFAS, etc...)\"\n        ],\n        \"semantic_type\": \"\",\n        \"description\": \"\"\n      }\n    },\n    {\n      \"column\": \"Additional amount of studying (in hrs) per week\",\n      \"properties\": {\n        \"dtype\": \"string\",\n        \"num_unique_values\": 1,\n        \"samples\": [\n          \"8+\"\n        ],\n        \"semantic_type\": \"\",\n        \"description\": \"\"\n      }\n    },\n    {\n      \"column\": \"How often do you go out partying/socialising during the week? \",\n      \"properties\": {\n        \"dtype\": \"string\",\n        \"num_unique_values\": 1,\n        \"samples\": [\n          \"Only weekends\"\n        ],\n        \"semantic_type\": \"\",\n        \"description\": \"\"\n      }\n    },\n    {\n      \"column\": \"On a night out, how many alcoholic drinks do you consume?\",\n      \"properties\": {\n        \"dtype\": \"string\",\n        \"num_unique_values\": 2,\n        \"samples\": [\n          \"3-5\"\n        ],\n        \"semantic_type\": \"\",\n        \"description\": \"\"\n      }\n    },\n    {\n      \"column\": \"How many classes do you miss per week due to alcohol reasons, (i.e: being hungover or too tired?)\",\n      \"properties\": {\n        \"dtype\": \"string\",\n        \"num_unique_values\": 2,\n        \"samples\": [\n          \"4+\"\n        ],\n        \"semantic_type\": \"\",\n        \"description\": \"\"\n      }\n    },\n    {\n      \"column\": \"How many modules have you failed thus far into your studies?\",\n      \"properties\": {\n        \"dtype\": \"string\",\n        \"num_unique_values\": 1,\n        \"samples\": [\n          \"0\"\n        ],\n        \"semantic_type\": \"\",\n        \"description\": \"\"\n      }\n    },\n    {\n      \"column\": \"Are you currently in a romantic relationship?\",\n      \"properties\": {\n        \"dtype\": \"string\",\n        \"num_unique_values\": 2,\n        \"samples\": [\n          \"No\"\n        ],\n        \"semantic_type\": \"\",\n        \"description\": \"\"\n      }\n    },\n    {\n      \"column\": \"Do your parents approve alcohol consumption?\",\n      \"properties\": {\n        \"dtype\": \"string\",\n        \"num_unique_values\": 1,\n        \"samples\": [\n          \"Yes\"\n        ],\n        \"semantic_type\": \"\",\n        \"description\": \"\"\n      }\n    },\n    {\n      \"column\": \"How strong is your relationship with your parent/s?\",\n      \"properties\": {\n        \"dtype\": \"string\",\n        \"num_unique_values\": 1,\n        \"samples\": [\n          \"Very close\"\n        ],\n        \"semantic_type\": \"\",\n        \"description\": \"\"\n      }\n    }\n  ]\n}"
            }
          },
          "metadata": {},
          "execution_count": 12
        }
      ]
    },
    {
      "cell_type": "markdown",
      "source": [
        "## Encoding the categorical features over here"
      ],
      "metadata": {
        "id": "64xMCDmf3TGz"
      }
    },
    {
      "cell_type": "code",
      "source": [
        "data['Timestamp'].value_counts()"
      ],
      "metadata": {
        "colab": {
          "base_uri": "https://localhost:8080/"
        },
        "id": "mPCkFZNp2H23",
        "outputId": "19563a80-33ab-4602-e124-97473c25d8fc"
      },
      "execution_count": 13,
      "outputs": [
        {
          "output_type": "execute_result",
          "data": {
            "text/plain": [
              "Timestamp\n",
              "2024/03/07 5:45:25 pm EET     2\n",
              "2024/03/07 10:53:04 pm EET    2\n",
              "2024/03/07 5:12:01 pm EET     1\n",
              "2024/03/07 11:13:49 pm EET    1\n",
              "2024/03/07 11:21:23 pm EET    1\n",
              "                             ..\n",
              "2024/03/07 6:11:21 pm EET     1\n",
              "2024/03/07 6:11:14 pm EET     1\n",
              "2024/03/07 6:11:08 pm EET     1\n",
              "2024/03/07 6:10:05 pm EET     1\n",
              "2024/03/12 3:26:14 pm EET     1\n",
              "Name: count, Length: 293, dtype: int64"
            ]
          },
          "metadata": {},
          "execution_count": 13
        }
      ]
    },
    {
      "cell_type": "code",
      "source": [
        "Timestamp_mapping={}\n",
        "\n",
        "for index,value in enumerate(data['Timestamp'].unique()):\n",
        "  Timestamp_mapping[value]=index\n",
        "print(Timestamp_mapping)"
      ],
      "metadata": {
        "colab": {
          "base_uri": "https://localhost:8080/"
        },
        "id": "HEwZo8ml2H5X",
        "outputId": "47d6b003-4380-4425-ed9d-6da99871f33c"
      },
      "execution_count": 14,
      "outputs": [
        {
          "output_type": "stream",
          "name": "stdout",
          "text": [
            "{'2024/03/07 5:12:01 pm EET': 0, '2024/03/07 5:12:08 pm EET': 1, '2024/03/07 5:12:25 pm EET': 2, '2024/03/07 5:12:28 pm EET': 3, '2024/03/07 5:13:00 pm EET': 4, '2024/03/07 5:13:22 pm EET': 5, '2024/03/07 5:13:26 pm EET': 6, '2024/03/07 5:14:06 pm EET': 7, '2024/03/07 5:14:08 pm EET': 8, '2024/03/07 5:14:10 pm EET': 9, '2024/03/07 5:14:43 pm EET': 10, '2024/03/07 5:14:51 pm EET': 11, '2024/03/07 5:15:08 pm EET': 12, '2024/03/07 5:15:13 pm EET': 13, '2024/03/07 5:15:43 pm EET': 14, '2024/03/07 5:16:06 pm EET': 15, '2024/03/07 5:16:35 pm EET': 16, '2024/03/07 5:16:56 pm EET': 17, '2024/03/07 5:17:06 pm EET': 18, '2024/03/07 5:17:09 pm EET': 19, '2024/03/07 5:17:22 pm EET': 20, '2024/03/07 5:17:28 pm EET': 21, '2024/03/07 5:17:39 pm EET': 22, '2024/03/07 5:18:18 pm EET': 23, '2024/03/07 5:18:56 pm EET': 24, '2024/03/07 5:19:16 pm EET': 25, '2024/03/07 5:19:55 pm EET': 26, '2024/03/07 5:19:56 pm EET': 27, '2024/03/07 5:20:04 pm EET': 28, '2024/03/07 5:20:31 pm EET': 29, '2024/03/07 5:20:48 pm EET': 30, '2024/03/07 5:20:52 pm EET': 31, '2024/03/07 5:20:55 pm EET': 32, '2024/03/07 5:20:57 pm EET': 33, '2024/03/07 5:22:36 pm EET': 34, '2024/03/07 5:22:40 pm EET': 35, '2024/03/07 5:22:44 pm EET': 36, '2024/03/07 5:22:59 pm EET': 37, '2024/03/07 5:23:11 pm EET': 38, '2024/03/07 5:24:55 pm EET': 39, '2024/03/07 5:25:13 pm EET': 40, '2024/03/07 5:26:08 pm EET': 41, '2024/03/07 5:26:12 pm EET': 42, '2024/03/07 5:26:29 pm EET': 43, '2024/03/07 5:28:19 pm EET': 44, '2024/03/07 5:28:30 pm EET': 45, '2024/03/07 5:30:10 pm EET': 46, '2024/03/07 5:30:18 pm EET': 47, '2024/03/07 5:31:19 pm EET': 48, '2024/03/07 5:31:56 pm EET': 49, '2024/03/07 5:35:49 pm EET': 50, '2024/03/07 5:36:14 pm EET': 51, '2024/03/07 5:37:16 pm EET': 52, '2024/03/07 5:39:13 pm EET': 53, '2024/03/07 5:39:33 pm EET': 54, '2024/03/07 5:41:22 pm EET': 55, '2024/03/07 5:41:41 pm EET': 56, '2024/03/07 5:43:30 pm EET': 57, '2024/03/07 5:45:25 pm EET': 58, '2024/03/07 5:46:41 pm EET': 59, '2024/03/07 5:46:44 pm EET': 60, '2024/03/07 5:47:22 pm EET': 61, '2024/03/07 5:48:23 pm EET': 62, '2024/03/07 5:48:53 pm EET': 63, '2024/03/07 5:49:47 pm EET': 64, '2024/03/07 5:50:14 pm EET': 65, '2024/03/07 5:50:23 pm EET': 66, '2024/03/07 5:51:04 pm EET': 67, '2024/03/07 5:51:05 pm EET': 68, '2024/03/07 5:54:33 pm EET': 69, '2024/03/07 5:54:41 pm EET': 70, '2024/03/07 5:54:53 pm EET': 71, '2024/03/07 5:55:01 pm EET': 72, '2024/03/07 5:55:23 pm EET': 73, '2024/03/07 5:57:46 pm EET': 74, '2024/03/07 5:58:30 pm EET': 75, '2024/03/07 5:59:04 pm EET': 76, '2024/03/07 5:59:28 pm EET': 77, '2024/03/07 5:59:33 pm EET': 78, '2024/03/07 6:00:19 pm EET': 79, '2024/03/07 6:00:45 pm EET': 80, '2024/03/07 6:01:01 pm EET': 81, '2024/03/07 6:02:13 pm EET': 82, '2024/03/07 6:03:28 pm EET': 83, '2024/03/07 6:03:46 pm EET': 84, '2024/03/07 6:04:29 pm EET': 85, '2024/03/07 6:04:36 pm EET': 86, '2024/03/07 6:04:52 pm EET': 87, '2024/03/07 6:05:57 pm EET': 88, '2024/03/07 6:06:00 pm EET': 89, '2024/03/07 6:06:21 pm EET': 90, '2024/03/07 6:07:35 pm EET': 91, '2024/03/07 6:08:05 pm EET': 92, '2024/03/07 6:08:50 pm EET': 93, '2024/03/07 6:10:05 pm EET': 94, '2024/03/07 6:11:08 pm EET': 95, '2024/03/07 6:11:14 pm EET': 96, '2024/03/07 6:11:21 pm EET': 97, '2024/03/07 6:11:41 pm EET': 98, '2024/03/07 6:12:43 pm EET': 99, '2024/03/07 6:12:47 pm EET': 100, '2024/03/07 6:15:31 pm EET': 101, '2024/03/07 6:15:48 pm EET': 102, '2024/03/07 6:16:51 pm EET': 103, '2024/03/07 6:19:15 pm EET': 104, '2024/03/07 6:23:51 pm EET': 105, '2024/03/07 6:23:58 pm EET': 106, '2024/03/07 6:26:53 pm EET': 107, '2024/03/07 6:27:21 pm EET': 108, '2024/03/07 6:28:39 pm EET': 109, '2024/03/07 6:33:23 pm EET': 110, '2024/03/07 6:34:12 pm EET': 111, '2024/03/07 6:34:17 pm EET': 112, '2024/03/07 6:37:49 pm EET': 113, '2024/03/07 6:39:00 pm EET': 114, '2024/03/07 6:42:55 pm EET': 115, '2024/03/07 6:43:25 pm EET': 116, '2024/03/07 6:44:27 pm EET': 117, '2024/03/07 6:56:36 pm EET': 118, '2024/03/07 6:56:38 pm EET': 119, '2024/03/07 7:02:56 pm EET': 120, '2024/03/07 7:03:36 pm EET': 121, '2024/03/07 7:07:32 pm EET': 122, '2024/03/07 7:09:17 pm EET': 123, '2024/03/07 7:14:33 pm EET': 124, '2024/03/07 7:15:06 pm EET': 125, '2024/03/07 7:18:00 pm EET': 126, '2024/03/07 7:18:59 pm EET': 127, '2024/03/07 7:21:59 pm EET': 128, '2024/03/07 7:23:00 pm EET': 129, '2024/03/07 7:35:56 pm EET': 130, '2024/03/07 7:53:26 pm EET': 131, '2024/03/07 7:54:47 pm EET': 132, '2024/03/07 7:54:54 pm EET': 133, '2024/03/07 7:55:07 pm EET': 134, '2024/03/07 7:55:47 pm EET': 135, '2024/03/07 8:06:35 pm EET': 136, '2024/03/07 8:07:03 pm EET': 137, '2024/03/07 8:07:15 pm EET': 138, '2024/03/07 8:10:53 pm EET': 139, '2024/03/07 8:11:46 pm EET': 140, '2024/03/07 8:13:02 pm EET': 141, '2024/03/07 8:14:46 pm EET': 142, '2024/03/07 8:16:42 pm EET': 143, '2024/03/07 8:17:11 pm EET': 144, '2024/03/07 8:21:30 pm EET': 145, '2024/03/07 8:23:39 pm EET': 146, '2024/03/07 8:25:17 pm EET': 147, '2024/03/07 8:25:25 pm EET': 148, '2024/03/07 8:35:19 pm EET': 149, '2024/03/07 8:41:19 pm EET': 150, '2024/03/07 8:44:24 pm EET': 151, '2024/03/07 8:52:04 pm EET': 152, '2024/03/07 8:55:37 pm EET': 153, '2024/03/07 8:55:40 pm EET': 154, '2024/03/07 8:55:47 pm EET': 155, '2024/03/07 8:57:08 pm EET': 156, '2024/03/07 8:57:17 pm EET': 157, '2024/03/07 8:57:29 pm EET': 158, '2024/03/07 8:57:39 pm EET': 159, '2024/03/07 8:58:08 pm EET': 160, '2024/03/07 9:01:08 pm EET': 161, '2024/03/07 9:03:43 pm EET': 162, '2024/03/07 9:05:14 pm EET': 163, '2024/03/07 9:05:47 pm EET': 164, '2024/03/07 9:07:53 pm EET': 165, '2024/03/07 9:09:03 pm EET': 166, '2024/03/07 9:11:04 pm EET': 167, '2024/03/07 9:11:21 pm EET': 168, '2024/03/07 9:12:49 pm EET': 169, '2024/03/07 9:14:18 pm EET': 170, '2024/03/07 9:14:34 pm EET': 171, '2024/03/07 9:16:56 pm EET': 172, '2024/03/07 9:18:49 pm EET': 173, '2024/03/07 9:24:34 pm EET': 174, '2024/03/07 9:25:57 pm EET': 175, '2024/03/07 9:27:52 pm EET': 176, '2024/03/07 9:40:47 pm EET': 177, '2024/03/07 9:44:28 pm EET': 178, '2024/03/07 9:55:22 pm EET': 179, '2024/03/07 9:56:16 pm EET': 180, '2024/03/07 9:59:38 pm EET': 181, '2024/03/07 10:07:26 pm EET': 182, '2024/03/07 10:07:30 pm EET': 183, '2024/03/07 10:08:29 pm EET': 184, '2024/03/07 10:17:06 pm EET': 185, '2024/03/07 10:19:09 pm EET': 186, '2024/03/07 10:25:16 pm EET': 187, '2024/03/07 10:25:45 pm EET': 188, '2024/03/07 10:28:49 pm EET': 189, '2024/03/07 10:31:42 pm EET': 190, '2024/03/07 10:31:47 pm EET': 191, '2024/03/07 10:53:04 pm EET': 192, '2024/03/07 10:53:09 pm EET': 193, '2024/03/07 11:13:49 pm EET': 194, '2024/03/07 11:18:02 pm EET': 195, '2024/03/07 11:19:26 pm EET': 196, '2024/03/07 11:20:06 pm EET': 197, '2024/03/07 11:20:18 pm EET': 198, '2024/03/07 11:20:59 pm EET': 199, '2024/03/07 11:21:23 pm EET': 200, '2024/03/07 11:23:21 pm EET': 201, '2024/03/07 11:25:48 pm EET': 202, '2024/03/07 11:30:21 pm EET': 203, '2024/03/07 11:31:34 pm EET': 204, '2024/03/07 11:35:55 pm EET': 205, '2024/03/07 11:37:29 pm EET': 206, '2024/03/07 11:42:16 pm EET': 207, '2024/03/07 11:43:48 pm EET': 208, '2024/03/07 11:46:09 pm EET': 209, '2024/03/07 11:57:33 pm EET': 210, '2024/03/08 6:30:51 am EET': 211, '2024/03/08 6:32:27 am EET': 212, '2024/03/08 7:08:19 am EET': 213, '2024/03/08 7:18:34 am EET': 214, '2024/03/08 7:39:45 am EET': 215, '2024/03/08 8:11:39 am EET': 216, '2024/03/08 8:27:36 am EET': 217, '2024/03/08 8:31:40 am EET': 218, '2024/03/08 8:34:42 am EET': 219, '2024/03/08 8:35:05 am EET': 220, '2024/03/08 8:58:27 am EET': 221, '2024/03/08 9:15:32 am EET': 222, '2024/03/08 9:30:31 am EET': 223, '2024/03/08 9:50:48 am EET': 224, '2024/03/08 10:01:13 am EET': 225, '2024/03/08 10:06:03 am EET': 226, '2024/03/08 10:15:05 am EET': 227, '2024/03/08 10:32:14 am EET': 228, '2024/03/08 10:52:45 am EET': 229, '2024/03/08 10:54:38 am EET': 230, '2024/03/08 11:03:19 am EET': 231, '2024/03/08 11:20:55 am EET': 232, '2024/03/08 11:30:52 am EET': 233, '2024/03/08 11:46:01 am EET': 234, '2024/03/08 12:28:48 pm EET': 235, '2024/03/08 12:54:48 pm EET': 236, '2024/03/08 1:07:58 pm EET': 237, '2024/03/08 1:34:30 pm EET': 238, '2024/03/08 2:08:49 pm EET': 239, '2024/03/08 2:25:01 pm EET': 240, '2024/03/08 2:45:33 pm EET': 241, '2024/03/08 3:32:58 pm EET': 242, '2024/03/08 4:29:09 pm EET': 243, '2024/03/08 4:33:50 pm EET': 244, '2024/03/08 4:34:38 pm EET': 245, '2024/03/08 4:35:19 pm EET': 246, '2024/03/08 4:37:51 pm EET': 247, '2024/03/08 4:38:33 pm EET': 248, '2024/03/08 4:39:53 pm EET': 249, '2024/03/08 4:40:34 pm EET': 250, '2024/03/08 6:43:44 pm EET': 251, '2024/03/08 7:10:07 pm EET': 252, '2024/03/08 9:37:48 pm EET': 253, '2024/03/09 12:11:10 pm EET': 254, '2024/03/09 12:35:28 pm EET': 255, '2024/03/09 3:12:44 pm EET': 256, '2024/03/09 4:31:38 pm EET': 257, '2024/03/09 4:41:44 pm EET': 258, '2024/03/09 9:57:06 pm EET': 259, '2024/03/10 12:56:37 pm EET': 260, '2024/03/10 12:58:47 pm EET': 261, '2024/03/10 8:03:18 pm EET': 262, '2024/03/10 8:08:34 pm EET': 263, '2024/03/10 11:07:34 pm EET': 264, '2024/03/11 1:03:10 pm EET': 265, '2024/03/11 2:06:31 pm EET': 266, '2024/03/11 2:06:41 pm EET': 267, '2024/03/11 2:07:05 pm EET': 268, '2024/03/11 2:07:20 pm EET': 269, '2024/03/11 2:07:33 pm EET': 270, '2024/03/11 2:07:50 pm EET': 271, '2024/03/11 2:09:11 pm EET': 272, '2024/03/11 2:09:53 pm EET': 273, '2024/03/11 2:10:29 pm EET': 274, '2024/03/11 2:11:49 pm EET': 275, '2024/03/11 2:16:10 pm EET': 276, '2024/03/11 2:17:24 pm EET': 277, '2024/03/11 2:17:42 pm EET': 278, '2024/03/11 2:39:34 pm EET': 279, '2024/03/11 2:49:54 pm EET': 280, '2024/03/11 2:56:07 pm EET': 281, '2024/03/11 2:59:36 pm EET': 282, '2024/03/11 3:00:04 pm EET': 283, '2024/03/11 3:12:20 pm EET': 284, '2024/03/11 3:52:53 pm EET': 285, '2024/03/11 4:16:20 pm EET': 286, '2024/03/11 4:26:13 pm EET': 287, '2024/03/11 4:40:28 pm EET': 288, '2024/03/11 4:41:08 pm EET': 289, '2024/03/11 5:11:29 pm EET': 290, '2024/03/11 5:45:20 pm EET': 291, '2024/03/12 3:26:14 pm EET': 292}\n"
          ]
        }
      ]
    },
    {
      "cell_type": "code",
      "source": [
        "data['Timestamp']=data['Timestamp'].map(Timestamp_mapping)"
      ],
      "metadata": {
        "id": "IiGA9lN72H8X"
      },
      "execution_count": 15,
      "outputs": []
    },
    {
      "cell_type": "code",
      "source": [
        "YourSex_mapping={}\n",
        "\n",
        "for index,value in enumerate(data['Your Sex?'].unique()):\n",
        "  YourSex_mapping[value]=index\n",
        "print(YourSex_mapping)"
      ],
      "metadata": {
        "colab": {
          "base_uri": "https://localhost:8080/"
        },
        "id": "KmrjURgy2ICv",
        "outputId": "d8d7e012-98df-4adc-aa84-5d3cd424b2d0"
      },
      "execution_count": 16,
      "outputs": [
        {
          "output_type": "stream",
          "name": "stdout",
          "text": [
            "{'Female': 0, 'Male': 1}\n"
          ]
        }
      ]
    },
    {
      "cell_type": "code",
      "source": [
        "data['Your Sex?']=data['Your Sex?'].map(YourSex_mapping)"
      ],
      "metadata": {
        "id": "yeNdTmTY2IFP"
      },
      "execution_count": 17,
      "outputs": []
    },
    {
      "cell_type": "code",
      "source": [
        "Whatyearwereyouinlastyear_mapping={}\n",
        "\n",
        "for index,value in enumerate(data['What year were you in last year (2023) ?'].unique()):\n",
        "  Whatyearwereyouinlastyear_mapping[value]=index\n",
        "print(Whatyearwereyouinlastyear_mapping)"
      ],
      "metadata": {
        "colab": {
          "base_uri": "https://localhost:8080/"
        },
        "id": "exExAnLs2IIA",
        "outputId": "ada01954-3182-415a-d241-aacc83b29154"
      },
      "execution_count": 18,
      "outputs": [
        {
          "output_type": "stream",
          "name": "stdout",
          "text": [
            "{'2nd Year': 0, '1st Year': 1, '3rd Year': 2, '4th Year': 3, 'Postgraduate': 4}\n"
          ]
        }
      ]
    },
    {
      "cell_type": "code",
      "source": [
        "data['What year were you in last year (2023) ?']=data['What year were you in last year (2023) ?'].map(Whatyearwereyouinlastyear_mapping)"
      ],
      "metadata": {
        "id": "dDeyB38z2ILo"
      },
      "execution_count": 19,
      "outputs": []
    },
    {
      "cell_type": "code",
      "source": [
        "Whatfacultydoesyourdegreefallunder_mapping={}\n",
        "\n",
        "for index,value in enumerate(data['What faculty does your degree fall under?'].unique()):\n",
        "  Whatfacultydoesyourdegreefallunder_mapping[value]=index\n",
        "print(Whatfacultydoesyourdegreefallunder_mapping)"
      ],
      "metadata": {
        "colab": {
          "base_uri": "https://localhost:8080/"
        },
        "id": "xNPUNzve6JM1",
        "outputId": "d2ce81b3-f906-4cac-c9c2-d1bb40d65e6e"
      },
      "execution_count": 20,
      "outputs": [
        {
          "output_type": "stream",
          "name": "stdout",
          "text": [
            "{'Arts & Social Sciences': 0, 'Economic & Management Sciences': 1, 'AgriSciences': 2, 'Engineering': 3, 'Science': 4, 'Law': 5, 'Medicine and Health Services': 6, 'Education': 7}\n"
          ]
        }
      ]
    },
    {
      "cell_type": "code",
      "source": [
        "data['What faculty does your degree fall under?']=data['What faculty does your degree fall under?'].map(Whatfacultydoesyourdegreefallunder_mapping)"
      ],
      "metadata": {
        "id": "QoF0J9rU6JPl"
      },
      "execution_count": 21,
      "outputs": []
    },
    {
      "cell_type": "code",
      "source": [
        "YourAccommodationStatusLastYear_mapping={}\n",
        "\n",
        "for index,value in enumerate(data['Your Accommodation Status Last Year (2023)'].unique()):\n",
        "  YourAccommodationStatusLastYear_mapping[value]=index\n",
        "print(YourAccommodationStatusLastYear_mapping)"
      ],
      "metadata": {
        "colab": {
          "base_uri": "https://localhost:8080/"
        },
        "id": "oPlton2A6JU9",
        "outputId": "1cbc9fc9-ded7-4a44-c348-2d4f3cf77736"
      },
      "execution_count": 22,
      "outputs": [
        {
          "output_type": "stream",
          "name": "stdout",
          "text": [
            "{'Private accommodation/ stay with family/friends': 0, 'Non-private accommodation ie. Res': 1}\n"
          ]
        }
      ]
    },
    {
      "cell_type": "code",
      "source": [
        "data['Your Accommodation Status Last Year (2023)']=data['Your Accommodation Status Last Year (2023)'].map(YourAccommodationStatusLastYear_mapping)"
      ],
      "metadata": {
        "id": "9j9L4an06JXl"
      },
      "execution_count": 23,
      "outputs": []
    },
    {
      "cell_type": "code",
      "source": [
        "MonthlyAllowancein2023_mapping={}\n",
        "\n",
        "for index,value in enumerate(data['Monthly Allowance in 2023'].unique()):\n",
        "  MonthlyAllowancein2023_mapping[value]=index\n",
        "print(MonthlyAllowancein2023_mapping)"
      ],
      "metadata": {
        "colab": {
          "base_uri": "https://localhost:8080/"
        },
        "id": "U_iexIcH6Jat",
        "outputId": "d4132537-0c20-4721-e351-036fda1484a0"
      },
      "execution_count": 24,
      "outputs": [
        {
          "output_type": "stream",
          "name": "stdout",
          "text": [
            "{'R 4001- R 5000': 0, 'R 7001 - R 8000': 1, 'R 6001 - R 7000': 2, 'R 5001 - R 6000': 3, 'R 8000+': 4}\n"
          ]
        }
      ]
    },
    {
      "cell_type": "code",
      "source": [
        "data['Monthly Allowance in 2023']=data['Monthly Allowance in 2023'].map(MonthlyAllowancein2023_mapping)"
      ],
      "metadata": {
        "id": "Ipw5MYke6JdN"
      },
      "execution_count": 25,
      "outputs": []
    },
    {
      "cell_type": "code",
      "source": [
        "Wereyouonscholarshipbursaryin2023_mapping={}\n",
        "\n",
        "for index,value in enumerate(data['Were you on scholarship/bursary in 2023?'].unique()):\n",
        "  Wereyouonscholarshipbursaryin2023_mapping[value]=index\n",
        "print(Wereyouonscholarshipbursaryin2023_mapping)"
      ],
      "metadata": {
        "colab": {
          "base_uri": "https://localhost:8080/"
        },
        "id": "Mw7TGpGH7Ib3",
        "outputId": "27be7cbc-647d-4a17-98f9-fd32ef8d3de1"
      },
      "execution_count": 26,
      "outputs": [
        {
          "output_type": "stream",
          "name": "stdout",
          "text": [
            "{'No': 0, 'Yes (NSFAS, etc...)': 1}\n"
          ]
        }
      ]
    },
    {
      "cell_type": "code",
      "source": [
        "data['Were you on scholarship/bursary in 2023?']=data['Were you on scholarship/bursary in 2023?'].map(Wereyouonscholarshipbursaryin2023_mapping)"
      ],
      "metadata": {
        "id": "k7jrgXu77IZO"
      },
      "execution_count": 27,
      "outputs": []
    },
    {
      "cell_type": "code",
      "source": [
        "Additionalamountofstudyingperweek_mapping={}\n",
        "\n",
        "for index,value in enumerate(data['Additional amount of studying (in hrs) per week'].unique()):\n",
        "  Additionalamountofstudyingperweek_mapping[value]=index\n",
        "print(Additionalamountofstudyingperweek_mapping)"
      ],
      "metadata": {
        "colab": {
          "base_uri": "https://localhost:8080/"
        },
        "id": "QTltIVU37IJ9",
        "outputId": "2680586e-9472-4833-e665-8509f4a097c2"
      },
      "execution_count": 28,
      "outputs": [
        {
          "output_type": "stream",
          "name": "stdout",
          "text": [
            "{'8+': 0, '3-5': 1, '1-3': 2, '5-8': 3, '0': 4}\n"
          ]
        }
      ]
    },
    {
      "cell_type": "code",
      "source": [
        "data['Additional amount of studying (in hrs) per week']=data['Additional amount of studying (in hrs) per week'].map(Additionalamountofstudyingperweek_mapping)"
      ],
      "metadata": {
        "id": "jDjGDheZ6JgF"
      },
      "execution_count": 29,
      "outputs": []
    },
    {
      "cell_type": "code",
      "source": [
        "data.columns"
      ],
      "metadata": {
        "colab": {
          "base_uri": "https://localhost:8080/"
        },
        "id": "cxhyjB448Afa",
        "outputId": "68d93512-6604-460f-b791-ae1108ad9923"
      },
      "execution_count": 30,
      "outputs": [
        {
          "output_type": "execute_result",
          "data": {
            "text/plain": [
              "Index(['Timestamp', 'Your Sex?', 'Your Matric (grade 12) Average/ GPA (in %)',\n",
              "       'What year were you in last year (2023) ?',\n",
              "       'What faculty does your degree fall under?',\n",
              "       'Your 2023 academic year average/GPA in % (Ignore if you are 2024 1st year student)',\n",
              "       'Your Accommodation Status Last Year (2023)',\n",
              "       'Monthly Allowance in 2023', 'Were you on scholarship/bursary in 2023?',\n",
              "       'Additional amount of studying (in hrs) per week',\n",
              "       'How often do you go out partying/socialising during the week? ',\n",
              "       'On a night out, how many alcoholic drinks do you consume?',\n",
              "       'How many classes do you miss per week due to alcohol reasons, (i.e: being hungover or too tired?)',\n",
              "       'How many modules have you failed thus far into your studies?',\n",
              "       'Are you currently in a romantic relationship?',\n",
              "       'Do your parents approve alcohol consumption?',\n",
              "       'How strong is your relationship with your parent/s?'],\n",
              "      dtype='object')"
            ]
          },
          "metadata": {},
          "execution_count": 30
        }
      ]
    },
    {
      "cell_type": "code",
      "source": [
        "Howoftendoyougooutpartyingsocialisingduringtheweek_mapping={}\n",
        "\n",
        "for index,value in enumerate(data['How often do you go out partying/socialising during the week? '].unique()):\n",
        "  Howoftendoyougooutpartyingsocialisingduringtheweek_mapping[value]=index\n",
        "print(Howoftendoyougooutpartyingsocialisingduringtheweek_mapping)"
      ],
      "metadata": {
        "colab": {
          "base_uri": "https://localhost:8080/"
        },
        "id": "Rq9sim1x6Jil",
        "outputId": "c06596f9-5071-40b4-d930-7f2db02ec7a9"
      },
      "execution_count": 31,
      "outputs": [
        {
          "output_type": "stream",
          "name": "stdout",
          "text": [
            "{'Only weekends': 0, '2': 1, '3': 2, '1': 3, '4+': 4, '0': 5}\n"
          ]
        }
      ]
    },
    {
      "cell_type": "code",
      "source": [
        "data['How often do you go out partying/socialising during the week? ']=data['How often do you go out partying/socialising during the week? '].map(Howoftendoyougooutpartyingsocialisingduringtheweek_mapping)"
      ],
      "metadata": {
        "id": "bCeeMdfh6Jlu"
      },
      "execution_count": 32,
      "outputs": []
    },
    {
      "cell_type": "code",
      "source": [
        "Onanightouthowmanyalcoholicdrinksdoyouconsume_mapping={}\n",
        "\n",
        "for index,value in enumerate(data['On a night out, how many alcoholic drinks do you consume?'].unique()):\n",
        "  Onanightouthowmanyalcoholicdrinksdoyouconsume_mapping[value]=index\n",
        "print(Onanightouthowmanyalcoholicdrinksdoyouconsume_mapping)"
      ],
      "metadata": {
        "colab": {
          "base_uri": "https://localhost:8080/"
        },
        "id": "GHG4oIVY7w58",
        "outputId": "995aa536-b947-47e7-b640-de9936a0c1d5"
      },
      "execution_count": 33,
      "outputs": [
        {
          "output_type": "stream",
          "name": "stdout",
          "text": [
            "{'8+': 0, '3-5': 1, '5-8': 2, '1-3': 3, '0': 4}\n"
          ]
        }
      ]
    },
    {
      "cell_type": "code",
      "source": [
        "data['On a night out, how many alcoholic drinks do you consume?']=data['On a night out, how many alcoholic drinks do you consume?'].map(Onanightouthowmanyalcoholicdrinksdoyouconsume_mapping)"
      ],
      "metadata": {
        "id": "pr7WJoCk7w8U"
      },
      "execution_count": 34,
      "outputs": []
    },
    {
      "cell_type": "code",
      "source": [
        "Howmanyclassesdoyoumissperweekduetoalcoholreasonsbeinghungoverortootired_mapping={}\n",
        "\n",
        "for index,value in enumerate(data['How many classes do you miss per week due to alcohol reasons, (i.e: being hungover or too tired?)'].unique()):\n",
        "  Howmanyclassesdoyoumissperweekduetoalcoholreasonsbeinghungoverortootired_mapping[value]=index\n",
        "print(Howmanyclassesdoyoumissperweekduetoalcoholreasonsbeinghungoverortootired_mapping)"
      ],
      "metadata": {
        "colab": {
          "base_uri": "https://localhost:8080/"
        },
        "id": "2S48mQnI7w-1",
        "outputId": "e12454cb-adaa-4a4b-c94c-9feb08778567"
      },
      "execution_count": 35,
      "outputs": [
        {
          "output_type": "stream",
          "name": "stdout",
          "text": [
            "{'3': 0, '4+': 1, '2': 2, '1': 3, '0': 4}\n"
          ]
        }
      ]
    },
    {
      "cell_type": "code",
      "source": [
        "data['How many classes do you miss per week due to alcohol reasons, (i.e: being hungover or too tired?)']=data['How many classes do you miss per week due to alcohol reasons, (i.e: being hungover or too tired?)'].map(Howmanyclassesdoyoumissperweekduetoalcoholreasonsbeinghungoverortootired_mapping)"
      ],
      "metadata": {
        "id": "5dk4ZKq57xBU"
      },
      "execution_count": 36,
      "outputs": []
    },
    {
      "cell_type": "code",
      "source": [
        "Howmanymoduleshaveyoufailedthusfarintoyourstudies_mapping={}\n",
        "\n",
        "for index,value in enumerate(data['How many modules have you failed thus far into your studies?'].unique()):\n",
        "  Howmanymoduleshaveyoufailedthusfarintoyourstudies_mapping[value]=index\n",
        "print(Howmanymoduleshaveyoufailedthusfarintoyourstudies_mapping)"
      ],
      "metadata": {
        "colab": {
          "base_uri": "https://localhost:8080/"
        },
        "id": "yIAo-g4o7xEM",
        "outputId": "ffcea0c9-64aa-4df2-cbaf-55a10999e97c"
      },
      "execution_count": 37,
      "outputs": [
        {
          "output_type": "stream",
          "name": "stdout",
          "text": [
            "{'0': 0, '3': 1, '4+': 2, '1': 3, '2': 4}\n"
          ]
        }
      ]
    },
    {
      "cell_type": "code",
      "source": [
        "data['How many modules have you failed thus far into your studies?']=data['How many modules have you failed thus far into your studies?'].map(Howmanymoduleshaveyoufailedthusfarintoyourstudies_mapping)"
      ],
      "metadata": {
        "id": "wSSLVehl7xG-"
      },
      "execution_count": 38,
      "outputs": []
    },
    {
      "cell_type": "code",
      "source": [
        "Areyoucurrentlyinaromanticrelationship_mapping={}\n",
        "\n",
        "for index,value in enumerate(data['Are you currently in a romantic relationship?'].unique()):\n",
        "  Areyoucurrentlyinaromanticrelationship_mapping[value]=index\n",
        "print(Areyoucurrentlyinaromanticrelationship_mapping)"
      ],
      "metadata": {
        "colab": {
          "base_uri": "https://localhost:8080/"
        },
        "id": "ImG7uudF7xJ8",
        "outputId": "8300e4b9-88dd-4fc0-8eb5-72ce47a295ea"
      },
      "execution_count": 39,
      "outputs": [
        {
          "output_type": "stream",
          "name": "stdout",
          "text": [
            "{'Yes': 0, 'No': 1}\n"
          ]
        }
      ]
    },
    {
      "cell_type": "code",
      "source": [
        "data['Are you currently in a romantic relationship?']=data['Are you currently in a romantic relationship?'].map(Areyoucurrentlyinaromanticrelationship_mapping)"
      ],
      "metadata": {
        "id": "Hj703MsL7xL0"
      },
      "execution_count": 40,
      "outputs": []
    },
    {
      "cell_type": "code",
      "source": [
        "Do_your_parents_approve_alcohol_consumption_mapping={}\n",
        "\n",
        "for index,value in enumerate(data['Do your parents approve alcohol consumption?'].unique()):\n",
        "  Do_your_parents_approve_alcohol_consumption_mapping[value]=index\n",
        "print(Do_your_parents_approve_alcohol_consumption_mapping)"
      ],
      "metadata": {
        "colab": {
          "base_uri": "https://localhost:8080/"
        },
        "id": "Cz5sVxEA9xYR",
        "outputId": "072a65c8-4727-4717-8b4e-925e102e0a26"
      },
      "execution_count": 41,
      "outputs": [
        {
          "output_type": "stream",
          "name": "stdout",
          "text": [
            "{'Yes': 0, 'No': 1}\n"
          ]
        }
      ]
    },
    {
      "cell_type": "code",
      "source": [
        "data['Do your parents approve alcohol consumption?']=data['Do your parents approve alcohol consumption?'].map(Do_your_parents_approve_alcohol_consumption_mapping)"
      ],
      "metadata": {
        "id": "yBX_UDKr9xa2"
      },
      "execution_count": 42,
      "outputs": []
    },
    {
      "cell_type": "code",
      "source": [
        "How_strong_is_your_relationship_with_your_parent_mapping={}\n",
        "\n",
        "for index,value in enumerate(data['How strong is your relationship with your parent/s?'].unique()):\n",
        "  How_strong_is_your_relationship_with_your_parent_mapping[value]=index\n",
        "How_strong_is_your_relationship_with_your_parent_mapping"
      ],
      "metadata": {
        "colab": {
          "base_uri": "https://localhost:8080/"
        },
        "id": "BKjL3EaZ9xdg",
        "outputId": "aac74444-1a76-4ee6-fe07-1f3324f9813f"
      },
      "execution_count": 43,
      "outputs": [
        {
          "output_type": "execute_result",
          "data": {
            "text/plain": [
              "{'Very close': 0, 'Fair': 1, 'Close': 2, 'Distant': 3}"
            ]
          },
          "metadata": {},
          "execution_count": 43
        }
      ]
    },
    {
      "cell_type": "code",
      "source": [
        "data['How strong is your relationship with your parent/s?']=data['How strong is your relationship with your parent/s?'].map(How_strong_is_your_relationship_with_your_parent_mapping)"
      ],
      "metadata": {
        "id": "siEIYwj99xi6"
      },
      "execution_count": 44,
      "outputs": []
    },
    {
      "cell_type": "code",
      "source": [
        "data"
      ],
      "metadata": {
        "colab": {
          "base_uri": "https://localhost:8080/",
          "height": 652
        },
        "id": "7IZNDV-a9xoQ",
        "outputId": "b1372f4f-2963-48de-e98e-a8801cd7048d"
      },
      "execution_count": 45,
      "outputs": [
        {
          "output_type": "execute_result",
          "data": {
            "text/plain": [
              "     Timestamp  Your Sex?  Your Matric (grade 12) Average/ GPA (in %)  \\\n",
              "0            0          0                                        76.0   \n",
              "1            1          1                                        89.0   \n",
              "2            2          1                                        76.0   \n",
              "3            3          1                                        89.0   \n",
              "4            4          0                                        74.0   \n",
              "..         ...        ...                                         ...   \n",
              "395        288          1                                        75.0   \n",
              "396        289          0                                        78.0   \n",
              "397        290          1                                        86.0   \n",
              "398        291          0                                        74.0   \n",
              "402        292          0                                        73.0   \n",
              "\n",
              "     What year were you in last year (2023) ?  \\\n",
              "0                                           0   \n",
              "1                                           0   \n",
              "2                                           1   \n",
              "3                                           0   \n",
              "4                                           0   \n",
              "..                                        ...   \n",
              "395                                         0   \n",
              "396                                         0   \n",
              "397                                         1   \n",
              "398                                         0   \n",
              "402                                         0   \n",
              "\n",
              "     What faculty does your degree fall under?  \\\n",
              "0                                            0   \n",
              "1                                            1   \n",
              "2                                            2   \n",
              "3                                            3   \n",
              "4                                            0   \n",
              "..                                         ...   \n",
              "395                                          1   \n",
              "396                                          6   \n",
              "397                                          1   \n",
              "398                                          1   \n",
              "402                                          1   \n",
              "\n",
              "     Your 2023 academic year average/GPA in % (Ignore if you are 2024 1st year student)  \\\n",
              "0                                                 72.0                                    \n",
              "1                                                 75.0                                    \n",
              "2                                                 55.0                                    \n",
              "3                                                 84.0                                    \n",
              "4                                                 52.0                                    \n",
              "..                                                 ...                                    \n",
              "395                                               80.0                                    \n",
              "396                                               74.0                                    \n",
              "397                                               70.0                                    \n",
              "398                                               60.0                                    \n",
              "402                                               58.0                                    \n",
              "\n",
              "     Your Accommodation Status Last Year (2023)  Monthly Allowance in 2023  \\\n",
              "0                                             0                          0   \n",
              "1                                             0                          1   \n",
              "2                                             0                          0   \n",
              "3                                             0                          2   \n",
              "4                                             0                          0   \n",
              "..                                          ...                        ...   \n",
              "395                                           0                          4   \n",
              "396                                           0                          0   \n",
              "397                                           0                          0   \n",
              "398                                           0                          2   \n",
              "402                                           0                          2   \n",
              "\n",
              "     Were you on scholarship/bursary in 2023?  \\\n",
              "0                                           0   \n",
              "1                                           1   \n",
              "2                                           0   \n",
              "3                                           0   \n",
              "4                                           0   \n",
              "..                                        ...   \n",
              "395                                         0   \n",
              "396                                         0   \n",
              "397                                         0   \n",
              "398                                         0   \n",
              "402                                         1   \n",
              "\n",
              "     Additional amount of studying (in hrs) per week  \\\n",
              "0                                                  0   \n",
              "1                                                  0   \n",
              "2                                                  1   \n",
              "3                                                  1   \n",
              "4                                                  1   \n",
              "..                                               ...   \n",
              "395                                                4   \n",
              "396                                                2   \n",
              "397                                                3   \n",
              "398                                                3   \n",
              "402                                                3   \n",
              "\n",
              "     How often do you go out partying/socialising during the week?   \\\n",
              "0                                                    0                \n",
              "1                                                    0                \n",
              "2                                                    1                \n",
              "3                                                    2                \n",
              "4                                                    0                \n",
              "..                                                 ...                \n",
              "395                                                  4                \n",
              "396                                                  0                \n",
              "397                                                  1                \n",
              "398                                                  0                \n",
              "402                                                  3                \n",
              "\n",
              "     On a night out, how many alcoholic drinks do you consume?  \\\n",
              "0                                                    0           \n",
              "1                                                    1           \n",
              "2                                                    0           \n",
              "3                                                    0           \n",
              "4                                                    2           \n",
              "..                                                 ...           \n",
              "395                                                  0           \n",
              "396                                                  3           \n",
              "397                                                  1           \n",
              "398                                                  3           \n",
              "402                                                  0           \n",
              "\n",
              "     How many classes do you miss per week due to alcohol reasons, (i.e: being hungover or too tired?)  \\\n",
              "0                                                    0                                                   \n",
              "1                                                    1                                                   \n",
              "2                                                    0                                                   \n",
              "3                                                    2                                                   \n",
              "4                                                    3                                                   \n",
              "..                                                 ...                                                   \n",
              "395                                                  1                                                   \n",
              "396                                                  4                                                   \n",
              "397                                                  2                                                   \n",
              "398                                                  4                                                   \n",
              "402                                                  4                                                   \n",
              "\n",
              "     How many modules have you failed thus far into your studies?  \\\n",
              "0                                                    0              \n",
              "1                                                    0              \n",
              "2                                                    0              \n",
              "3                                                    0              \n",
              "4                                                    1              \n",
              "..                                                 ...              \n",
              "395                                                  0              \n",
              "396                                                  0              \n",
              "397                                                  0              \n",
              "398                                                  1              \n",
              "402                                                  0              \n",
              "\n",
              "     Are you currently in a romantic relationship?  \\\n",
              "0                                                0   \n",
              "1                                                1   \n",
              "2                                                1   \n",
              "3                                                0   \n",
              "4                                                1   \n",
              "..                                             ...   \n",
              "395                                              1   \n",
              "396                                              1   \n",
              "397                                              0   \n",
              "398                                              1   \n",
              "402                                              0   \n",
              "\n",
              "     Do your parents approve alcohol consumption?  \\\n",
              "0                                               0   \n",
              "1                                               0   \n",
              "2                                               0   \n",
              "3                                               0   \n",
              "4                                               0   \n",
              "..                                            ...   \n",
              "395                                             1   \n",
              "396                                             0   \n",
              "397                                             0   \n",
              "398                                             1   \n",
              "402                                             0   \n",
              "\n",
              "     How strong is your relationship with your parent/s?  \n",
              "0                                                    0    \n",
              "1                                                    0    \n",
              "2                                                    0    \n",
              "3                                                    0    \n",
              "4                                                    1    \n",
              "..                                                 ...    \n",
              "395                                                  0    \n",
              "396                                                  0    \n",
              "397                                                  1    \n",
              "398                                                  2    \n",
              "402                                                  0    \n",
              "\n",
              "[295 rows x 17 columns]"
            ],
            "text/html": [
              "\n",
              "  <div id=\"df-5ab7160f-bf70-46d4-87e3-cb88317b00b8\" class=\"colab-df-container\">\n",
              "    <div>\n",
              "<style scoped>\n",
              "    .dataframe tbody tr th:only-of-type {\n",
              "        vertical-align: middle;\n",
              "    }\n",
              "\n",
              "    .dataframe tbody tr th {\n",
              "        vertical-align: top;\n",
              "    }\n",
              "\n",
              "    .dataframe thead th {\n",
              "        text-align: right;\n",
              "    }\n",
              "</style>\n",
              "<table border=\"1\" class=\"dataframe\">\n",
              "  <thead>\n",
              "    <tr style=\"text-align: right;\">\n",
              "      <th></th>\n",
              "      <th>Timestamp</th>\n",
              "      <th>Your Sex?</th>\n",
              "      <th>Your Matric (grade 12) Average/ GPA (in %)</th>\n",
              "      <th>What year were you in last year (2023) ?</th>\n",
              "      <th>What faculty does your degree fall under?</th>\n",
              "      <th>Your 2023 academic year average/GPA in % (Ignore if you are 2024 1st year student)</th>\n",
              "      <th>Your Accommodation Status Last Year (2023)</th>\n",
              "      <th>Monthly Allowance in 2023</th>\n",
              "      <th>Were you on scholarship/bursary in 2023?</th>\n",
              "      <th>Additional amount of studying (in hrs) per week</th>\n",
              "      <th>How often do you go out partying/socialising during the week?</th>\n",
              "      <th>On a night out, how many alcoholic drinks do you consume?</th>\n",
              "      <th>How many classes do you miss per week due to alcohol reasons, (i.e: being hungover or too tired?)</th>\n",
              "      <th>How many modules have you failed thus far into your studies?</th>\n",
              "      <th>Are you currently in a romantic relationship?</th>\n",
              "      <th>Do your parents approve alcohol consumption?</th>\n",
              "      <th>How strong is your relationship with your parent/s?</th>\n",
              "    </tr>\n",
              "  </thead>\n",
              "  <tbody>\n",
              "    <tr>\n",
              "      <th>0</th>\n",
              "      <td>0</td>\n",
              "      <td>0</td>\n",
              "      <td>76.0</td>\n",
              "      <td>0</td>\n",
              "      <td>0</td>\n",
              "      <td>72.0</td>\n",
              "      <td>0</td>\n",
              "      <td>0</td>\n",
              "      <td>0</td>\n",
              "      <td>0</td>\n",
              "      <td>0</td>\n",
              "      <td>0</td>\n",
              "      <td>0</td>\n",
              "      <td>0</td>\n",
              "      <td>0</td>\n",
              "      <td>0</td>\n",
              "      <td>0</td>\n",
              "    </tr>\n",
              "    <tr>\n",
              "      <th>1</th>\n",
              "      <td>1</td>\n",
              "      <td>1</td>\n",
              "      <td>89.0</td>\n",
              "      <td>0</td>\n",
              "      <td>1</td>\n",
              "      <td>75.0</td>\n",
              "      <td>0</td>\n",
              "      <td>1</td>\n",
              "      <td>1</td>\n",
              "      <td>0</td>\n",
              "      <td>0</td>\n",
              "      <td>1</td>\n",
              "      <td>1</td>\n",
              "      <td>0</td>\n",
              "      <td>1</td>\n",
              "      <td>0</td>\n",
              "      <td>0</td>\n",
              "    </tr>\n",
              "    <tr>\n",
              "      <th>2</th>\n",
              "      <td>2</td>\n",
              "      <td>1</td>\n",
              "      <td>76.0</td>\n",
              "      <td>1</td>\n",
              "      <td>2</td>\n",
              "      <td>55.0</td>\n",
              "      <td>0</td>\n",
              "      <td>0</td>\n",
              "      <td>0</td>\n",
              "      <td>1</td>\n",
              "      <td>1</td>\n",
              "      <td>0</td>\n",
              "      <td>0</td>\n",
              "      <td>0</td>\n",
              "      <td>1</td>\n",
              "      <td>0</td>\n",
              "      <td>0</td>\n",
              "    </tr>\n",
              "    <tr>\n",
              "      <th>3</th>\n",
              "      <td>3</td>\n",
              "      <td>1</td>\n",
              "      <td>89.0</td>\n",
              "      <td>0</td>\n",
              "      <td>3</td>\n",
              "      <td>84.0</td>\n",
              "      <td>0</td>\n",
              "      <td>2</td>\n",
              "      <td>0</td>\n",
              "      <td>1</td>\n",
              "      <td>2</td>\n",
              "      <td>0</td>\n",
              "      <td>2</td>\n",
              "      <td>0</td>\n",
              "      <td>0</td>\n",
              "      <td>0</td>\n",
              "      <td>0</td>\n",
              "    </tr>\n",
              "    <tr>\n",
              "      <th>4</th>\n",
              "      <td>4</td>\n",
              "      <td>0</td>\n",
              "      <td>74.0</td>\n",
              "      <td>0</td>\n",
              "      <td>0</td>\n",
              "      <td>52.0</td>\n",
              "      <td>0</td>\n",
              "      <td>0</td>\n",
              "      <td>0</td>\n",
              "      <td>1</td>\n",
              "      <td>0</td>\n",
              "      <td>2</td>\n",
              "      <td>3</td>\n",
              "      <td>1</td>\n",
              "      <td>1</td>\n",
              "      <td>0</td>\n",
              "      <td>1</td>\n",
              "    </tr>\n",
              "    <tr>\n",
              "      <th>...</th>\n",
              "      <td>...</td>\n",
              "      <td>...</td>\n",
              "      <td>...</td>\n",
              "      <td>...</td>\n",
              "      <td>...</td>\n",
              "      <td>...</td>\n",
              "      <td>...</td>\n",
              "      <td>...</td>\n",
              "      <td>...</td>\n",
              "      <td>...</td>\n",
              "      <td>...</td>\n",
              "      <td>...</td>\n",
              "      <td>...</td>\n",
              "      <td>...</td>\n",
              "      <td>...</td>\n",
              "      <td>...</td>\n",
              "      <td>...</td>\n",
              "    </tr>\n",
              "    <tr>\n",
              "      <th>395</th>\n",
              "      <td>288</td>\n",
              "      <td>1</td>\n",
              "      <td>75.0</td>\n",
              "      <td>0</td>\n",
              "      <td>1</td>\n",
              "      <td>80.0</td>\n",
              "      <td>0</td>\n",
              "      <td>4</td>\n",
              "      <td>0</td>\n",
              "      <td>4</td>\n",
              "      <td>4</td>\n",
              "      <td>0</td>\n",
              "      <td>1</td>\n",
              "      <td>0</td>\n",
              "      <td>1</td>\n",
              "      <td>1</td>\n",
              "      <td>0</td>\n",
              "    </tr>\n",
              "    <tr>\n",
              "      <th>396</th>\n",
              "      <td>289</td>\n",
              "      <td>0</td>\n",
              "      <td>78.0</td>\n",
              "      <td>0</td>\n",
              "      <td>6</td>\n",
              "      <td>74.0</td>\n",
              "      <td>0</td>\n",
              "      <td>0</td>\n",
              "      <td>0</td>\n",
              "      <td>2</td>\n",
              "      <td>0</td>\n",
              "      <td>3</td>\n",
              "      <td>4</td>\n",
              "      <td>0</td>\n",
              "      <td>1</td>\n",
              "      <td>0</td>\n",
              "      <td>0</td>\n",
              "    </tr>\n",
              "    <tr>\n",
              "      <th>397</th>\n",
              "      <td>290</td>\n",
              "      <td>1</td>\n",
              "      <td>86.0</td>\n",
              "      <td>1</td>\n",
              "      <td>1</td>\n",
              "      <td>70.0</td>\n",
              "      <td>0</td>\n",
              "      <td>0</td>\n",
              "      <td>0</td>\n",
              "      <td>3</td>\n",
              "      <td>1</td>\n",
              "      <td>1</td>\n",
              "      <td>2</td>\n",
              "      <td>0</td>\n",
              "      <td>0</td>\n",
              "      <td>0</td>\n",
              "      <td>1</td>\n",
              "    </tr>\n",
              "    <tr>\n",
              "      <th>398</th>\n",
              "      <td>291</td>\n",
              "      <td>0</td>\n",
              "      <td>74.0</td>\n",
              "      <td>0</td>\n",
              "      <td>1</td>\n",
              "      <td>60.0</td>\n",
              "      <td>0</td>\n",
              "      <td>2</td>\n",
              "      <td>0</td>\n",
              "      <td>3</td>\n",
              "      <td>0</td>\n",
              "      <td>3</td>\n",
              "      <td>4</td>\n",
              "      <td>1</td>\n",
              "      <td>1</td>\n",
              "      <td>1</td>\n",
              "      <td>2</td>\n",
              "    </tr>\n",
              "    <tr>\n",
              "      <th>402</th>\n",
              "      <td>292</td>\n",
              "      <td>0</td>\n",
              "      <td>73.0</td>\n",
              "      <td>0</td>\n",
              "      <td>1</td>\n",
              "      <td>58.0</td>\n",
              "      <td>0</td>\n",
              "      <td>2</td>\n",
              "      <td>1</td>\n",
              "      <td>3</td>\n",
              "      <td>3</td>\n",
              "      <td>0</td>\n",
              "      <td>4</td>\n",
              "      <td>0</td>\n",
              "      <td>0</td>\n",
              "      <td>0</td>\n",
              "      <td>0</td>\n",
              "    </tr>\n",
              "  </tbody>\n",
              "</table>\n",
              "<p>295 rows × 17 columns</p>\n",
              "</div>\n",
              "    <div class=\"colab-df-buttons\">\n",
              "\n",
              "  <div class=\"colab-df-container\">\n",
              "    <button class=\"colab-df-convert\" onclick=\"convertToInteractive('df-5ab7160f-bf70-46d4-87e3-cb88317b00b8')\"\n",
              "            title=\"Convert this dataframe to an interactive table.\"\n",
              "            style=\"display:none;\">\n",
              "\n",
              "  <svg xmlns=\"http://www.w3.org/2000/svg\" height=\"24px\" viewBox=\"0 -960 960 960\">\n",
              "    <path d=\"M120-120v-720h720v720H120Zm60-500h600v-160H180v160Zm220 220h160v-160H400v160Zm0 220h160v-160H400v160ZM180-400h160v-160H180v160Zm440 0h160v-160H620v160ZM180-180h160v-160H180v160Zm440 0h160v-160H620v160Z\"/>\n",
              "  </svg>\n",
              "    </button>\n",
              "\n",
              "  <style>\n",
              "    .colab-df-container {\n",
              "      display:flex;\n",
              "      gap: 12px;\n",
              "    }\n",
              "\n",
              "    .colab-df-convert {\n",
              "      background-color: #E8F0FE;\n",
              "      border: none;\n",
              "      border-radius: 50%;\n",
              "      cursor: pointer;\n",
              "      display: none;\n",
              "      fill: #1967D2;\n",
              "      height: 32px;\n",
              "      padding: 0 0 0 0;\n",
              "      width: 32px;\n",
              "    }\n",
              "\n",
              "    .colab-df-convert:hover {\n",
              "      background-color: #E2EBFA;\n",
              "      box-shadow: 0px 1px 2px rgba(60, 64, 67, 0.3), 0px 1px 3px 1px rgba(60, 64, 67, 0.15);\n",
              "      fill: #174EA6;\n",
              "    }\n",
              "\n",
              "    .colab-df-buttons div {\n",
              "      margin-bottom: 4px;\n",
              "    }\n",
              "\n",
              "    [theme=dark] .colab-df-convert {\n",
              "      background-color: #3B4455;\n",
              "      fill: #D2E3FC;\n",
              "    }\n",
              "\n",
              "    [theme=dark] .colab-df-convert:hover {\n",
              "      background-color: #434B5C;\n",
              "      box-shadow: 0px 1px 3px 1px rgba(0, 0, 0, 0.15);\n",
              "      filter: drop-shadow(0px 1px 2px rgba(0, 0, 0, 0.3));\n",
              "      fill: #FFFFFF;\n",
              "    }\n",
              "  </style>\n",
              "\n",
              "    <script>\n",
              "      const buttonEl =\n",
              "        document.querySelector('#df-5ab7160f-bf70-46d4-87e3-cb88317b00b8 button.colab-df-convert');\n",
              "      buttonEl.style.display =\n",
              "        google.colab.kernel.accessAllowed ? 'block' : 'none';\n",
              "\n",
              "      async function convertToInteractive(key) {\n",
              "        const element = document.querySelector('#df-5ab7160f-bf70-46d4-87e3-cb88317b00b8');\n",
              "        const dataTable =\n",
              "          await google.colab.kernel.invokeFunction('convertToInteractive',\n",
              "                                                    [key], {});\n",
              "        if (!dataTable) return;\n",
              "\n",
              "        const docLinkHtml = 'Like what you see? Visit the ' +\n",
              "          '<a target=\"_blank\" href=https://colab.research.google.com/notebooks/data_table.ipynb>data table notebook</a>'\n",
              "          + ' to learn more about interactive tables.';\n",
              "        element.innerHTML = '';\n",
              "        dataTable['output_type'] = 'display_data';\n",
              "        await google.colab.output.renderOutput(dataTable, element);\n",
              "        const docLink = document.createElement('div');\n",
              "        docLink.innerHTML = docLinkHtml;\n",
              "        element.appendChild(docLink);\n",
              "      }\n",
              "    </script>\n",
              "  </div>\n",
              "\n",
              "\n",
              "<div id=\"df-f399950f-7e98-43b9-a933-804c0bdf948c\">\n",
              "  <button class=\"colab-df-quickchart\" onclick=\"quickchart('df-f399950f-7e98-43b9-a933-804c0bdf948c')\"\n",
              "            title=\"Suggest charts\"\n",
              "            style=\"display:none;\">\n",
              "\n",
              "<svg xmlns=\"http://www.w3.org/2000/svg\" height=\"24px\"viewBox=\"0 0 24 24\"\n",
              "     width=\"24px\">\n",
              "    <g>\n",
              "        <path d=\"M19 3H5c-1.1 0-2 .9-2 2v14c0 1.1.9 2 2 2h14c1.1 0 2-.9 2-2V5c0-1.1-.9-2-2-2zM9 17H7v-7h2v7zm4 0h-2V7h2v10zm4 0h-2v-4h2v4z\"/>\n",
              "    </g>\n",
              "</svg>\n",
              "  </button>\n",
              "\n",
              "<style>\n",
              "  .colab-df-quickchart {\n",
              "      --bg-color: #E8F0FE;\n",
              "      --fill-color: #1967D2;\n",
              "      --hover-bg-color: #E2EBFA;\n",
              "      --hover-fill-color: #174EA6;\n",
              "      --disabled-fill-color: #AAA;\n",
              "      --disabled-bg-color: #DDD;\n",
              "  }\n",
              "\n",
              "  [theme=dark] .colab-df-quickchart {\n",
              "      --bg-color: #3B4455;\n",
              "      --fill-color: #D2E3FC;\n",
              "      --hover-bg-color: #434B5C;\n",
              "      --hover-fill-color: #FFFFFF;\n",
              "      --disabled-bg-color: #3B4455;\n",
              "      --disabled-fill-color: #666;\n",
              "  }\n",
              "\n",
              "  .colab-df-quickchart {\n",
              "    background-color: var(--bg-color);\n",
              "    border: none;\n",
              "    border-radius: 50%;\n",
              "    cursor: pointer;\n",
              "    display: none;\n",
              "    fill: var(--fill-color);\n",
              "    height: 32px;\n",
              "    padding: 0;\n",
              "    width: 32px;\n",
              "  }\n",
              "\n",
              "  .colab-df-quickchart:hover {\n",
              "    background-color: var(--hover-bg-color);\n",
              "    box-shadow: 0 1px 2px rgba(60, 64, 67, 0.3), 0 1px 3px 1px rgba(60, 64, 67, 0.15);\n",
              "    fill: var(--button-hover-fill-color);\n",
              "  }\n",
              "\n",
              "  .colab-df-quickchart-complete:disabled,\n",
              "  .colab-df-quickchart-complete:disabled:hover {\n",
              "    background-color: var(--disabled-bg-color);\n",
              "    fill: var(--disabled-fill-color);\n",
              "    box-shadow: none;\n",
              "  }\n",
              "\n",
              "  .colab-df-spinner {\n",
              "    border: 2px solid var(--fill-color);\n",
              "    border-color: transparent;\n",
              "    border-bottom-color: var(--fill-color);\n",
              "    animation:\n",
              "      spin 1s steps(1) infinite;\n",
              "  }\n",
              "\n",
              "  @keyframes spin {\n",
              "    0% {\n",
              "      border-color: transparent;\n",
              "      border-bottom-color: var(--fill-color);\n",
              "      border-left-color: var(--fill-color);\n",
              "    }\n",
              "    20% {\n",
              "      border-color: transparent;\n",
              "      border-left-color: var(--fill-color);\n",
              "      border-top-color: var(--fill-color);\n",
              "    }\n",
              "    30% {\n",
              "      border-color: transparent;\n",
              "      border-left-color: var(--fill-color);\n",
              "      border-top-color: var(--fill-color);\n",
              "      border-right-color: var(--fill-color);\n",
              "    }\n",
              "    40% {\n",
              "      border-color: transparent;\n",
              "      border-right-color: var(--fill-color);\n",
              "      border-top-color: var(--fill-color);\n",
              "    }\n",
              "    60% {\n",
              "      border-color: transparent;\n",
              "      border-right-color: var(--fill-color);\n",
              "    }\n",
              "    80% {\n",
              "      border-color: transparent;\n",
              "      border-right-color: var(--fill-color);\n",
              "      border-bottom-color: var(--fill-color);\n",
              "    }\n",
              "    90% {\n",
              "      border-color: transparent;\n",
              "      border-bottom-color: var(--fill-color);\n",
              "    }\n",
              "  }\n",
              "</style>\n",
              "\n",
              "  <script>\n",
              "    async function quickchart(key) {\n",
              "      const quickchartButtonEl =\n",
              "        document.querySelector('#' + key + ' button');\n",
              "      quickchartButtonEl.disabled = true;  // To prevent multiple clicks.\n",
              "      quickchartButtonEl.classList.add('colab-df-spinner');\n",
              "      try {\n",
              "        const charts = await google.colab.kernel.invokeFunction(\n",
              "            'suggestCharts', [key], {});\n",
              "      } catch (error) {\n",
              "        console.error('Error during call to suggestCharts:', error);\n",
              "      }\n",
              "      quickchartButtonEl.classList.remove('colab-df-spinner');\n",
              "      quickchartButtonEl.classList.add('colab-df-quickchart-complete');\n",
              "    }\n",
              "    (() => {\n",
              "      let quickchartButtonEl =\n",
              "        document.querySelector('#df-f399950f-7e98-43b9-a933-804c0bdf948c button');\n",
              "      quickchartButtonEl.style.display =\n",
              "        google.colab.kernel.accessAllowed ? 'block' : 'none';\n",
              "    })();\n",
              "  </script>\n",
              "</div>\n",
              "\n",
              "  <div id=\"id_47e29a66-f5a6-4868-9b0b-413db51dd745\">\n",
              "    <style>\n",
              "      .colab-df-generate {\n",
              "        background-color: #E8F0FE;\n",
              "        border: none;\n",
              "        border-radius: 50%;\n",
              "        cursor: pointer;\n",
              "        display: none;\n",
              "        fill: #1967D2;\n",
              "        height: 32px;\n",
              "        padding: 0 0 0 0;\n",
              "        width: 32px;\n",
              "      }\n",
              "\n",
              "      .colab-df-generate:hover {\n",
              "        background-color: #E2EBFA;\n",
              "        box-shadow: 0px 1px 2px rgba(60, 64, 67, 0.3), 0px 1px 3px 1px rgba(60, 64, 67, 0.15);\n",
              "        fill: #174EA6;\n",
              "      }\n",
              "\n",
              "      [theme=dark] .colab-df-generate {\n",
              "        background-color: #3B4455;\n",
              "        fill: #D2E3FC;\n",
              "      }\n",
              "\n",
              "      [theme=dark] .colab-df-generate:hover {\n",
              "        background-color: #434B5C;\n",
              "        box-shadow: 0px 1px 3px 1px rgba(0, 0, 0, 0.15);\n",
              "        filter: drop-shadow(0px 1px 2px rgba(0, 0, 0, 0.3));\n",
              "        fill: #FFFFFF;\n",
              "      }\n",
              "    </style>\n",
              "    <button class=\"colab-df-generate\" onclick=\"generateWithVariable('data')\"\n",
              "            title=\"Generate code using this dataframe.\"\n",
              "            style=\"display:none;\">\n",
              "\n",
              "  <svg xmlns=\"http://www.w3.org/2000/svg\" height=\"24px\"viewBox=\"0 0 24 24\"\n",
              "       width=\"24px\">\n",
              "    <path d=\"M7,19H8.4L18.45,9,17,7.55,7,17.6ZM5,21V16.75L18.45,3.32a2,2,0,0,1,2.83,0l1.4,1.43a1.91,1.91,0,0,1,.58,1.4,1.91,1.91,0,0,1-.58,1.4L9.25,21ZM18.45,9,17,7.55Zm-12,3A5.31,5.31,0,0,0,4.9,8.1,5.31,5.31,0,0,0,1,6.5,5.31,5.31,0,0,0,4.9,4.9,5.31,5.31,0,0,0,6.5,1,5.31,5.31,0,0,0,8.1,4.9,5.31,5.31,0,0,0,12,6.5,5.46,5.46,0,0,0,6.5,12Z\"/>\n",
              "  </svg>\n",
              "    </button>\n",
              "    <script>\n",
              "      (() => {\n",
              "      const buttonEl =\n",
              "        document.querySelector('#id_47e29a66-f5a6-4868-9b0b-413db51dd745 button.colab-df-generate');\n",
              "      buttonEl.style.display =\n",
              "        google.colab.kernel.accessAllowed ? 'block' : 'none';\n",
              "\n",
              "      buttonEl.onclick = () => {\n",
              "        google.colab.notebook.generateWithVariable('data');\n",
              "      }\n",
              "      })();\n",
              "    </script>\n",
              "  </div>\n",
              "\n",
              "    </div>\n",
              "  </div>\n"
            ],
            "application/vnd.google.colaboratory.intrinsic+json": {
              "type": "dataframe",
              "variable_name": "data",
              "summary": "{\n  \"name\": \"data\",\n  \"rows\": 295,\n  \"fields\": [\n    {\n      \"column\": \"Timestamp\",\n      \"properties\": {\n        \"dtype\": \"number\",\n        \"std\": 84,\n        \"min\": 0,\n        \"max\": 292,\n        \"num_unique_values\": 293,\n        \"samples\": [\n          84,\n          260,\n          45\n        ],\n        \"semantic_type\": \"\",\n        \"description\": \"\"\n      }\n    },\n    {\n      \"column\": \"Your Sex?\",\n      \"properties\": {\n        \"dtype\": \"number\",\n        \"std\": 0,\n        \"min\": 0,\n        \"max\": 1,\n        \"num_unique_values\": 2,\n        \"samples\": [\n          1,\n          0\n        ],\n        \"semantic_type\": \"\",\n        \"description\": \"\"\n      }\n    },\n    {\n      \"column\": \"Your Matric (grade 12) Average/ GPA (in %)\",\n      \"properties\": {\n        \"dtype\": \"number\",\n        \"std\": 6.5774609349637565,\n        \"min\": 60.0,\n        \"max\": 99.0,\n        \"num_unique_values\": 38,\n        \"samples\": [\n          60.0,\n          66.0\n        ],\n        \"semantic_type\": \"\",\n        \"description\": \"\"\n      }\n    },\n    {\n      \"column\": \"What year were you in last year (2023) ?\",\n      \"properties\": {\n        \"dtype\": \"number\",\n        \"std\": 0,\n        \"min\": 0,\n        \"max\": 4,\n        \"num_unique_values\": 5,\n        \"samples\": [\n          1,\n          4\n        ],\n        \"semantic_type\": \"\",\n        \"description\": \"\"\n      }\n    },\n    {\n      \"column\": \"What faculty does your degree fall under?\",\n      \"properties\": {\n        \"dtype\": \"number\",\n        \"std\": 1,\n        \"min\": 0,\n        \"max\": 7,\n        \"num_unique_values\": 8,\n        \"samples\": [\n          1,\n          5\n        ],\n        \"semantic_type\": \"\",\n        \"description\": \"\"\n      }\n    },\n    {\n      \"column\": \"Your 2023 academic year average/GPA in % (Ignore if you are 2024 1st year student)\",\n      \"properties\": {\n        \"dtype\": \"number\",\n        \"std\": 9.32899724118919,\n        \"min\": 30.0,\n        \"max\": 95.22,\n        \"num_unique_values\": 44,\n        \"samples\": [\n          92.0,\n          95.22\n        ],\n        \"semantic_type\": \"\",\n        \"description\": \"\"\n      }\n    },\n    {\n      \"column\": \"Your Accommodation Status Last Year (2023)\",\n      \"properties\": {\n        \"dtype\": \"number\",\n        \"std\": 0,\n        \"min\": 0,\n        \"max\": 1,\n        \"num_unique_values\": 2,\n        \"samples\": [\n          1,\n          0\n        ],\n        \"semantic_type\": \"\",\n        \"description\": \"\"\n      }\n    },\n    {\n      \"column\": \"Monthly Allowance in 2023\",\n      \"properties\": {\n        \"dtype\": \"number\",\n        \"std\": 1,\n        \"min\": 0,\n        \"max\": 4,\n        \"num_unique_values\": 5,\n        \"samples\": [\n          1,\n          4\n        ],\n        \"semantic_type\": \"\",\n        \"description\": \"\"\n      }\n    },\n    {\n      \"column\": \"Were you on scholarship/bursary in 2023?\",\n      \"properties\": {\n        \"dtype\": \"number\",\n        \"std\": 0,\n        \"min\": 0,\n        \"max\": 1,\n        \"num_unique_values\": 2,\n        \"samples\": [\n          1,\n          0\n        ],\n        \"semantic_type\": \"\",\n        \"description\": \"\"\n      }\n    },\n    {\n      \"column\": \"Additional amount of studying (in hrs) per week\",\n      \"properties\": {\n        \"dtype\": \"number\",\n        \"std\": 1,\n        \"min\": 0,\n        \"max\": 4,\n        \"num_unique_values\": 5,\n        \"samples\": [\n          1,\n          4\n        ],\n        \"semantic_type\": \"\",\n        \"description\": \"\"\n      }\n    },\n    {\n      \"column\": \"How often do you go out partying/socialising during the week? \",\n      \"properties\": {\n        \"dtype\": \"number\",\n        \"std\": 1,\n        \"min\": 0,\n        \"max\": 5,\n        \"num_unique_values\": 6,\n        \"samples\": [\n          0,\n          1\n        ],\n        \"semantic_type\": \"\",\n        \"description\": \"\"\n      }\n    },\n    {\n      \"column\": \"On a night out, how many alcoholic drinks do you consume?\",\n      \"properties\": {\n        \"dtype\": \"number\",\n        \"std\": 1,\n        \"min\": 0,\n        \"max\": 4,\n        \"num_unique_values\": 5,\n        \"samples\": [\n          1,\n          4\n        ],\n        \"semantic_type\": \"\",\n        \"description\": \"\"\n      }\n    },\n    {\n      \"column\": \"How many classes do you miss per week due to alcohol reasons, (i.e: being hungover or too tired?)\",\n      \"properties\": {\n        \"dtype\": \"number\",\n        \"std\": 1,\n        \"min\": 0,\n        \"max\": 4,\n        \"num_unique_values\": 5,\n        \"samples\": [\n          1,\n          4\n        ],\n        \"semantic_type\": \"\",\n        \"description\": \"\"\n      }\n    },\n    {\n      \"column\": \"How many modules have you failed thus far into your studies?\",\n      \"properties\": {\n        \"dtype\": \"number\",\n        \"std\": 1,\n        \"min\": 0,\n        \"max\": 4,\n        \"num_unique_values\": 5,\n        \"samples\": [\n          1,\n          4\n        ],\n        \"semantic_type\": \"\",\n        \"description\": \"\"\n      }\n    },\n    {\n      \"column\": \"Are you currently in a romantic relationship?\",\n      \"properties\": {\n        \"dtype\": \"number\",\n        \"std\": 0,\n        \"min\": 0,\n        \"max\": 1,\n        \"num_unique_values\": 2,\n        \"samples\": [\n          1,\n          0\n        ],\n        \"semantic_type\": \"\",\n        \"description\": \"\"\n      }\n    },\n    {\n      \"column\": \"Do your parents approve alcohol consumption?\",\n      \"properties\": {\n        \"dtype\": \"number\",\n        \"std\": 0,\n        \"min\": 0,\n        \"max\": 1,\n        \"num_unique_values\": 2,\n        \"samples\": [\n          1,\n          0\n        ],\n        \"semantic_type\": \"\",\n        \"description\": \"\"\n      }\n    },\n    {\n      \"column\": \"How strong is your relationship with your parent/s?\",\n      \"properties\": {\n        \"dtype\": \"number\",\n        \"std\": 0,\n        \"min\": 0,\n        \"max\": 3,\n        \"num_unique_values\": 4,\n        \"samples\": [\n          1,\n          3\n        ],\n        \"semantic_type\": \"\",\n        \"description\": \"\"\n      }\n    }\n  ]\n}"
            }
          },
          "metadata": {},
          "execution_count": 45
        }
      ]
    },
    {
      "cell_type": "code",
      "source": [
        "data['How strong is your relationship with your parent/s?'].value_counts()"
      ],
      "metadata": {
        "colab": {
          "base_uri": "https://localhost:8080/"
        },
        "id": "dt7qpU_vCsKw",
        "outputId": "8e9400b1-3051-42ac-a2ec-eb482dabb094"
      },
      "execution_count": 46,
      "outputs": [
        {
          "output_type": "execute_result",
          "data": {
            "text/plain": [
              "How strong is your relationship with your parent/s?\n",
              "0    198\n",
              "2     67\n",
              "1     28\n",
              "3      2\n",
              "Name: count, dtype: int64"
            ]
          },
          "metadata": {},
          "execution_count": 46
        }
      ]
    },
    {
      "cell_type": "code",
      "source": [
        "data['Are you currently in a romantic relationship?'].value_counts()"
      ],
      "metadata": {
        "colab": {
          "base_uri": "https://localhost:8080/"
        },
        "id": "2sRZwM2yCvsZ",
        "outputId": "59983c71-55af-4082-9735-1f1426a59b73"
      },
      "execution_count": 47,
      "outputs": [
        {
          "output_type": "execute_result",
          "data": {
            "text/plain": [
              "Are you currently in a romantic relationship?\n",
              "1    167\n",
              "0    128\n",
              "Name: count, dtype: int64"
            ]
          },
          "metadata": {},
          "execution_count": 47
        }
      ]
    },
    {
      "cell_type": "code",
      "source": [
        "data['are you currently in a romantic relationship?']=data['Are you currently in a romantic relationship?']"
      ],
      "metadata": {
        "id": "aTELlA7tD2yy"
      },
      "execution_count": 48,
      "outputs": []
    },
    {
      "cell_type": "code",
      "source": [
        "data.drop(\"Are you currently in a romantic relationship?\",axis=1,inplace=True)"
      ],
      "metadata": {
        "id": "BaOS1yzlD28M"
      },
      "execution_count": 49,
      "outputs": []
    },
    {
      "cell_type": "markdown",
      "source": [
        "## Creating the features and labels over here"
      ],
      "metadata": {
        "id": "hAYYgOSG-u_b"
      }
    },
    {
      "cell_type": "code",
      "source": [
        "X=data.iloc[:,:-1].values\n",
        "y=data.iloc[:,-1].values"
      ],
      "metadata": {
        "id": "VFvqDASJ6Jot"
      },
      "execution_count": 50,
      "outputs": []
    },
    {
      "cell_type": "markdown",
      "source": [
        "## Splitting the dataset into training set and testing set to avoid the problem of overfitting over here"
      ],
      "metadata": {
        "id": "NiqTut-o_HsF"
      }
    },
    {
      "cell_type": "code",
      "source": [
        "from sklearn.model_selection import train_test_split\n",
        "X_train,X_test,y_train,y_test=train_test_split(X,y,test_size=0.2,random_state=0)"
      ],
      "metadata": {
        "id": "xSOl-BKD-s2h"
      },
      "execution_count": 51,
      "outputs": []
    },
    {
      "cell_type": "markdown",
      "source": [
        "## Experiment with different classification algorithms and selecting the one giving more accuracy with respect to performance metrics over here"
      ],
      "metadata": {
        "id": "rJpmqwPS_YrZ"
      }
    },
    {
      "cell_type": "code",
      "source": [
        "from sklearn.model_selection import train_test_split\n",
        "from sklearn.metrics import accuracy_score\n",
        "from sklearn.ensemble import RandomForestClassifier\n",
        "from sklearn.svm import SVC\n",
        "from sklearn.linear_model import LogisticRegression\n",
        "from sklearn.neighbors import KNeighborsClassifier\n",
        "from sklearn.tree import DecisionTreeClassifier\n",
        "from sklearn.naive_bayes import GaussianNB\n",
        "import xgboost as xgb\n",
        "\n",
        "classifiers = {\n",
        "    \"Random Forest\": RandomForestClassifier(n_estimators=10, criterion=\"entropy\", random_state=0),\n",
        "    \"Support Vector Machine\": SVC(kernel='linear'),\n",
        "    \"Logistic Regression\": LogisticRegression(),\n",
        "    \"K-Nearest Neighbors\": KNeighborsClassifier(),\n",
        "    # \"Decision Tree\": DecisionTreeClassifier(),\n",
        "    \"Naive Bayes\": GaussianNB(),\n",
        "    \"XGBoost\": xgb.XGBClassifier()\n",
        "}\n",
        "\n",
        "results = {}\n",
        "for name, classifier in classifiers.items():\n",
        "    classifier.fit(X_train, y_train)\n",
        "    y_pred = classifier.predict(X_test)\n",
        "    accuracy = accuracy_score(y_test, y_pred)\n",
        "    results[name] = accuracy\n",
        "\n",
        "best_classifier = max(results, key=results.get)\n",
        "best_accuracy = results[best_classifier]\n",
        "\n",
        "print(\"Best Classifier:\", best_classifier)\n",
        "print(\"Accuracy:\", best_accuracy)\n"
      ],
      "metadata": {
        "colab": {
          "base_uri": "https://localhost:8080/"
        },
        "id": "kCu138tB-s6K",
        "outputId": "abd14441-3206-4534-b9c8-1b29aea65434"
      },
      "execution_count": 52,
      "outputs": [
        {
          "output_type": "stream",
          "name": "stderr",
          "text": [
            "/usr/local/lib/python3.10/dist-packages/sklearn/linear_model/_logistic.py:458: ConvergenceWarning: lbfgs failed to converge (status=1):\n",
            "STOP: TOTAL NO. of ITERATIONS REACHED LIMIT.\n",
            "\n",
            "Increase the number of iterations (max_iter) or scale the data as shown in:\n",
            "    https://scikit-learn.org/stable/modules/preprocessing.html\n",
            "Please also refer to the documentation for alternative solver options:\n",
            "    https://scikit-learn.org/stable/modules/linear_model.html#logistic-regression\n",
            "  n_iter_i = _check_optimize_result(\n"
          ]
        },
        {
          "output_type": "stream",
          "name": "stdout",
          "text": [
            "Best Classifier: Random Forest\n",
            "Accuracy: 0.576271186440678\n"
          ]
        }
      ]
    },
    {
      "cell_type": "code",
      "source": [
        "classifier=RandomForestClassifier(n_estimators=10, criterion=\"entropy\", random_state=0)\n",
        "classifier.fit(X_train,y_train)"
      ],
      "metadata": {
        "colab": {
          "base_uri": "https://localhost:8080/",
          "height": 74
        },
        "id": "qZY0B8_P-s9p",
        "outputId": "fb712f7e-f162-495e-a897-dd89116c1c88"
      },
      "execution_count": 65,
      "outputs": [
        {
          "output_type": "execute_result",
          "data": {
            "text/plain": [
              "RandomForestClassifier(criterion='entropy', n_estimators=10, random_state=0)"
            ],
            "text/html": [
              "<style>#sk-container-id-5 {color: black;background-color: white;}#sk-container-id-5 pre{padding: 0;}#sk-container-id-5 div.sk-toggleable {background-color: white;}#sk-container-id-5 label.sk-toggleable__label {cursor: pointer;display: block;width: 100%;margin-bottom: 0;padding: 0.3em;box-sizing: border-box;text-align: center;}#sk-container-id-5 label.sk-toggleable__label-arrow:before {content: \"▸\";float: left;margin-right: 0.25em;color: #696969;}#sk-container-id-5 label.sk-toggleable__label-arrow:hover:before {color: black;}#sk-container-id-5 div.sk-estimator:hover label.sk-toggleable__label-arrow:before {color: black;}#sk-container-id-5 div.sk-toggleable__content {max-height: 0;max-width: 0;overflow: hidden;text-align: left;background-color: #f0f8ff;}#sk-container-id-5 div.sk-toggleable__content pre {margin: 0.2em;color: black;border-radius: 0.25em;background-color: #f0f8ff;}#sk-container-id-5 input.sk-toggleable__control:checked~div.sk-toggleable__content {max-height: 200px;max-width: 100%;overflow: auto;}#sk-container-id-5 input.sk-toggleable__control:checked~label.sk-toggleable__label-arrow:before {content: \"▾\";}#sk-container-id-5 div.sk-estimator input.sk-toggleable__control:checked~label.sk-toggleable__label {background-color: #d4ebff;}#sk-container-id-5 div.sk-label input.sk-toggleable__control:checked~label.sk-toggleable__label {background-color: #d4ebff;}#sk-container-id-5 input.sk-hidden--visually {border: 0;clip: rect(1px 1px 1px 1px);clip: rect(1px, 1px, 1px, 1px);height: 1px;margin: -1px;overflow: hidden;padding: 0;position: absolute;width: 1px;}#sk-container-id-5 div.sk-estimator {font-family: monospace;background-color: #f0f8ff;border: 1px dotted black;border-radius: 0.25em;box-sizing: border-box;margin-bottom: 0.5em;}#sk-container-id-5 div.sk-estimator:hover {background-color: #d4ebff;}#sk-container-id-5 div.sk-parallel-item::after {content: \"\";width: 100%;border-bottom: 1px solid gray;flex-grow: 1;}#sk-container-id-5 div.sk-label:hover label.sk-toggleable__label {background-color: #d4ebff;}#sk-container-id-5 div.sk-serial::before {content: \"\";position: absolute;border-left: 1px solid gray;box-sizing: border-box;top: 0;bottom: 0;left: 50%;z-index: 0;}#sk-container-id-5 div.sk-serial {display: flex;flex-direction: column;align-items: center;background-color: white;padding-right: 0.2em;padding-left: 0.2em;position: relative;}#sk-container-id-5 div.sk-item {position: relative;z-index: 1;}#sk-container-id-5 div.sk-parallel {display: flex;align-items: stretch;justify-content: center;background-color: white;position: relative;}#sk-container-id-5 div.sk-item::before, #sk-container-id-5 div.sk-parallel-item::before {content: \"\";position: absolute;border-left: 1px solid gray;box-sizing: border-box;top: 0;bottom: 0;left: 50%;z-index: -1;}#sk-container-id-5 div.sk-parallel-item {display: flex;flex-direction: column;z-index: 1;position: relative;background-color: white;}#sk-container-id-5 div.sk-parallel-item:first-child::after {align-self: flex-end;width: 50%;}#sk-container-id-5 div.sk-parallel-item:last-child::after {align-self: flex-start;width: 50%;}#sk-container-id-5 div.sk-parallel-item:only-child::after {width: 0;}#sk-container-id-5 div.sk-dashed-wrapped {border: 1px dashed gray;margin: 0 0.4em 0.5em 0.4em;box-sizing: border-box;padding-bottom: 0.4em;background-color: white;}#sk-container-id-5 div.sk-label label {font-family: monospace;font-weight: bold;display: inline-block;line-height: 1.2em;}#sk-container-id-5 div.sk-label-container {text-align: center;}#sk-container-id-5 div.sk-container {/* jupyter's `normalize.less` sets `[hidden] { display: none; }` but bootstrap.min.css set `[hidden] { display: none !important; }` so we also need the `!important` here to be able to override the default hidden behavior on the sphinx rendered scikit-learn.org. See: https://github.com/scikit-learn/scikit-learn/issues/21755 */display: inline-block !important;position: relative;}#sk-container-id-5 div.sk-text-repr-fallback {display: none;}</style><div id=\"sk-container-id-5\" class=\"sk-top-container\"><div class=\"sk-text-repr-fallback\"><pre>RandomForestClassifier(criterion=&#x27;entropy&#x27;, n_estimators=10, random_state=0)</pre><b>In a Jupyter environment, please rerun this cell to show the HTML representation or trust the notebook. <br />On GitHub, the HTML representation is unable to render, please try loading this page with nbviewer.org.</b></div><div class=\"sk-container\" hidden><div class=\"sk-item\"><div class=\"sk-estimator sk-toggleable\"><input class=\"sk-toggleable__control sk-hidden--visually\" id=\"sk-estimator-id-5\" type=\"checkbox\" checked><label for=\"sk-estimator-id-5\" class=\"sk-toggleable__label sk-toggleable__label-arrow\">RandomForestClassifier</label><div class=\"sk-toggleable__content\"><pre>RandomForestClassifier(criterion=&#x27;entropy&#x27;, n_estimators=10, random_state=0)</pre></div></div></div></div></div>"
            ]
          },
          "metadata": {},
          "execution_count": 65
        }
      ]
    },
    {
      "cell_type": "code",
      "source": [
        "y_pred=classifier.predict(X_test)\n",
        "np.set_printoptions(precision=2)\n",
        "print(np.concatenate((y_pred.reshape(len(y_pred),1),y_test.reshape(len(y_test),1)),1))"
      ],
      "metadata": {
        "colab": {
          "base_uri": "https://localhost:8080/"
        },
        "id": "tfRoN1Dd-tBB",
        "outputId": "16a97b44-0f3a-413a-da51-89a7d8ad8ebe"
      },
      "execution_count": 66,
      "outputs": [
        {
          "output_type": "stream",
          "name": "stdout",
          "text": [
            "[[1 0]\n",
            " [1 0]\n",
            " [1 1]\n",
            " [1 1]\n",
            " [0 1]\n",
            " [1 1]\n",
            " [1 1]\n",
            " [1 1]\n",
            " [1 0]\n",
            " [0 1]\n",
            " [0 0]\n",
            " [1 1]\n",
            " [0 0]\n",
            " [0 0]\n",
            " [1 1]\n",
            " [0 0]\n",
            " [0 1]\n",
            " [1 0]\n",
            " [1 1]\n",
            " [0 1]\n",
            " [1 0]\n",
            " [0 0]\n",
            " [0 0]\n",
            " [1 1]\n",
            " [1 0]\n",
            " [1 1]\n",
            " [0 0]\n",
            " [1 0]\n",
            " [1 0]\n",
            " [1 0]\n",
            " [1 1]\n",
            " [1 0]\n",
            " [1 1]\n",
            " [1 1]\n",
            " [0 1]\n",
            " [1 1]\n",
            " [0 1]\n",
            " [1 1]\n",
            " [0 0]\n",
            " [1 1]\n",
            " [1 1]\n",
            " [1 0]\n",
            " [1 1]\n",
            " [1 1]\n",
            " [0 1]\n",
            " [1 1]\n",
            " [1 1]\n",
            " [1 1]\n",
            " [1 1]\n",
            " [0 1]\n",
            " [0 1]\n",
            " [1 1]\n",
            " [0 1]\n",
            " [1 0]\n",
            " [0 0]\n",
            " [0 0]\n",
            " [1 0]\n",
            " [1 0]\n",
            " [1 0]]\n"
          ]
        }
      ]
    },
    {
      "cell_type": "code",
      "source": [
        "from sklearn.metrics import classification_report,confusion_matrix,accuracy_score\n",
        "print(accuracy_score(y_test,y_pred))\n",
        "print(confusion_matrix(y_test,y_pred))\n",
        "print(classification_report(y_test,y_pred))"
      ],
      "metadata": {
        "colab": {
          "base_uri": "https://localhost:8080/"
        },
        "id": "9Hxjy9YW-tEk",
        "outputId": "f8d48156-34e4-4e3d-a482-46c95b60464a"
      },
      "execution_count": 67,
      "outputs": [
        {
          "output_type": "stream",
          "name": "stdout",
          "text": [
            "0.576271186440678\n",
            "[[10 15]\n",
            " [10 24]]\n",
            "              precision    recall  f1-score   support\n",
            "\n",
            "           0       0.50      0.40      0.44        25\n",
            "           1       0.62      0.71      0.66        34\n",
            "\n",
            "    accuracy                           0.58        59\n",
            "   macro avg       0.56      0.55      0.55        59\n",
            "weighted avg       0.57      0.58      0.57        59\n",
            "\n"
          ]
        }
      ]
    },
    {
      "cell_type": "code",
      "source": [],
      "metadata": {
        "id": "A6sWcSIW-tHx"
      },
      "execution_count": 67,
      "outputs": []
    },
    {
      "cell_type": "code",
      "source": [],
      "metadata": {
        "id": "Sqkx_Evu-tLE"
      },
      "execution_count": 67,
      "outputs": []
    },
    {
      "cell_type": "code",
      "source": [],
      "metadata": {
        "id": "e_MwkNP--tOx"
      },
      "execution_count": 67,
      "outputs": []
    },
    {
      "cell_type": "code",
      "source": [],
      "metadata": {
        "id": "oRqu4DCd-tSJ"
      },
      "execution_count": 55,
      "outputs": []
    },
    {
      "cell_type": "code",
      "source": [],
      "metadata": {
        "id": "l31LMVgf-tY6"
      },
      "execution_count": 55,
      "outputs": []
    },
    {
      "cell_type": "code",
      "source": [],
      "metadata": {
        "id": "E6UX-ffW-tbi"
      },
      "execution_count": 55,
      "outputs": []
    },
    {
      "cell_type": "code",
      "source": [],
      "metadata": {
        "id": "YbtQcIjK-teq"
      },
      "execution_count": 55,
      "outputs": []
    },
    {
      "cell_type": "code",
      "source": [],
      "metadata": {
        "id": "Ez3OjutF-tkS"
      },
      "execution_count": 55,
      "outputs": []
    },
    {
      "cell_type": "code",
      "source": [],
      "metadata": {
        "id": "QyBGgYvK-tnr"
      },
      "execution_count": 55,
      "outputs": []
    },
    {
      "cell_type": "code",
      "source": [],
      "metadata": {
        "id": "hWAjkif9-tw6"
      },
      "execution_count": 55,
      "outputs": []
    },
    {
      "cell_type": "code",
      "source": [],
      "metadata": {
        "id": "-PLjuBez-t3K"
      },
      "execution_count": 55,
      "outputs": []
    }
  ]
}