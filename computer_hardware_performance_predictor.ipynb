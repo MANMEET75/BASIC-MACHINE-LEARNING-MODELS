{
  "nbformat": 4,
  "nbformat_minor": 0,
  "metadata": {
    "colab": {
      "name": "computer_hardware_performance_predictor.ipynb",
      "provenance": [],
      "collapsed_sections": []
    },
    "kernelspec": {
      "name": "python3",
      "display_name": "Python 3"
    },
    "language_info": {
      "name": "python"
    }
  },
  "cells": [
    {
      "cell_type": "markdown",
      "source": [
        "## Importing the libraries"
      ],
      "metadata": {
        "id": "GrHfa7cjvNHo"
      }
    },
    {
      "cell_type": "code",
      "execution_count": 1,
      "metadata": {
        "id": "KQKZh8IEu8gl"
      },
      "outputs": [],
      "source": [
        "import numpy as np\n",
        "import pandas as pd\n",
        "import matplotlib.pyplot as plt"
      ]
    },
    {
      "cell_type": "markdown",
      "source": [
        "## Importing the dataset"
      ],
      "metadata": {
        "id": "-Kozy1mCvgMg"
      }
    },
    {
      "cell_type": "code",
      "source": [
        "dataset=pd.read_csv(\"machine.csv\")\n",
        "X=dataset.iloc[:,2:-1].values # we are not considering the vendor name over here\n",
        "y=dataset.iloc[:,-1].values # this one is dependent variable that we want to predict"
      ],
      "metadata": {
        "id": "JL5G_kdsvfdV"
      },
      "execution_count": 2,
      "outputs": []
    },
    {
      "cell_type": "code",
      "source": [
        "print(X)"
      ],
      "metadata": {
        "colab": {
          "base_uri": "https://localhost:8080/"
        },
        "id": "AuaPAyfrvp_E",
        "outputId": "870083a2-706d-444b-989e-1159af7c58dc"
      },
      "execution_count": 3,
      "outputs": [
        {
          "output_type": "stream",
          "name": "stdout",
          "text": [
            "[[  125   256  6000 ...    16   128   198]\n",
            " [   29  8000 32000 ...     8    32   269]\n",
            " [   29  8000 32000 ...     8    32   220]\n",
            " ...\n",
            " [  125  2000  8000 ...     2    14    52]\n",
            " [  480   512  8000 ...     0     0    67]\n",
            " [  480  1000  4000 ...     0     0    45]]\n"
          ]
        }
      ]
    },
    {
      "cell_type": "code",
      "source": [
        "print(y)"
      ],
      "metadata": {
        "colab": {
          "base_uri": "https://localhost:8080/"
        },
        "id": "oZt3Fk4awAaz",
        "outputId": "baac31aa-d3cb-41e8-b497-8a4412d57506"
      },
      "execution_count": 4,
      "outputs": [
        {
          "output_type": "stream",
          "name": "stdout",
          "text": [
            "[ 199  253  253  253  132  290  381  381  749 1238   23   24   70  117\n",
            "   15   64   23   29   22  124   35   39   40   45   28   21   28   22\n",
            "   28   27  102  102   74   74  138  136   23   29   44   30   41   74\n",
            "   74   74   54   41   18   28   36   38   34   19   72   36   30   56\n",
            "   42   34   34   34   34   34   19   75  113  157   18   20   28   33\n",
            "   47   54   20   23   25   52   27   50   18   53   23   30   73   20\n",
            "   25   28   29   32  175   57  181  181   32   82  171  361  350  220\n",
            "  113   15   21   35   18   20   20   28   45   18   17   26   28   28\n",
            "   31   31   42   76   76   26   59   65  101  116   18   20   20   30\n",
            "   44   44   82   82  128   37   46   46   80   88   88   33   46   29\n",
            "   53   53   41   86   95  107  117  119  120   48  126  266  270  426\n",
            "  151  267  603   19   21   26   35   41   47   62   78   80   80  142\n",
            "  281  190   21   25   67   24   24   64   25   20   29   43   53   19\n",
            "   22   31   41   47   99   67   81  149  183  275  382   56  182  227\n",
            "  341  360  919  978   24   24   24   24   37   50   41   47   25]\n"
          ]
        }
      ]
    },
    {
      "cell_type": "markdown",
      "source": [
        "## Spliiting the dataset into training set and testing set"
      ],
      "metadata": {
        "id": "1q9M7ombx_to"
      }
    },
    {
      "cell_type": "code",
      "source": [
        "from sklearn.model_selection import train_test_split\n",
        "X_train, X_test, y_train, y_test = train_test_split(X, y, test_size = 0.2, random_state = 0)"
      ],
      "metadata": {
        "id": "driJ_1--yDvB"
      },
      "execution_count": 5,
      "outputs": []
    },
    {
      "cell_type": "markdown",
      "source": [
        "## Training the linear regression model on the training set"
      ],
      "metadata": {
        "id": "I2y4uy9Jy252"
      }
    },
    {
      "cell_type": "code",
      "source": [
        "from sklearn.ensemble import RandomForestRegressor\n",
        "regressor=RandomForestRegressor(n_estimators=10,random_state=0)\n",
        "regressor.fit(X_train,y_train)"
      ],
      "metadata": {
        "colab": {
          "base_uri": "https://localhost:8080/"
        },
        "id": "VaVQuT0eyo-D",
        "outputId": "40c3eac3-e286-4c93-95b5-84c90d115ccb"
      },
      "execution_count": 10,
      "outputs": [
        {
          "output_type": "execute_result",
          "data": {
            "text/plain": [
              "RandomForestRegressor(n_estimators=10, random_state=0)"
            ]
          },
          "metadata": {},
          "execution_count": 10
        }
      ]
    },
    {
      "cell_type": "markdown",
      "source": [
        "## Predicting the test set results"
      ],
      "metadata": {
        "id": "Ceqk93YfzUeE"
      }
    },
    {
      "cell_type": "code",
      "source": [
        "y_pred=regressor.predict(X_test)\n",
        "np.set_printoptions(precision=2)\n",
        "print(np.concatenate((y_pred.reshape(len(y_pred),1),y_test.reshape(len(y_test),1)),1))"
      ],
      "metadata": {
        "colab": {
          "base_uri": "https://localhost:8080/"
        },
        "id": "FjW60B07zTgR",
        "outputId": "56aa175c-2b8a-4c66-e6b2-ab56e986ce42"
      },
      "execution_count": 11,
      "outputs": [
        {
          "output_type": "stream",
          "name": "stdout",
          "text": [
            "[[ 68.7  70. ]\n",
            " [ 23.1  23. ]\n",
            " [ 72.4  74. ]\n",
            " [274.  290. ]\n",
            " [ 64.6  67. ]\n",
            " [ 20.5  20. ]\n",
            " [ 81.2  76. ]\n",
            " [ 17.8  18. ]\n",
            " [184.7 181. ]\n",
            " [188.4 151. ]\n",
            " [ 42.6  41. ]\n",
            " [410.7 603. ]\n",
            " [ 91.4  72. ]\n",
            " [133.6 149. ]\n",
            " [314.9 350. ]\n",
            " [ 30.2  29. ]\n",
            " [ 56.5  50. ]\n",
            " [ 29.5  29. ]\n",
            " [ 18.   18. ]\n",
            " [ 20.6  22. ]\n",
            " [ 20.5  21. ]\n",
            " [ 65.4  64. ]\n",
            " [408.5 381. ]\n",
            " [ 57.4  56. ]\n",
            " [ 31.4  32. ]\n",
            " [ 74.8  80. ]\n",
            " [ 29.1  30. ]\n",
            " [ 19.8  20. ]\n",
            " [ 20.7  21. ]\n",
            " [ 34.   41. ]\n",
            " [ 52.6  52. ]\n",
            " [ 69.   48. ]\n",
            " [ 43.1  46. ]\n",
            " [ 45.4  54. ]\n",
            " [109.7  99. ]\n",
            " [ 82.5 107. ]\n",
            " [ 27.9  25. ]\n",
            " [ 64.4  59. ]\n",
            " [ 21.9  23. ]\n",
            " [ 77.4  88. ]\n",
            " [260.4 183. ]\n",
            " [ 39.8  40. ]]\n"
          ]
        }
      ]
    },
    {
      "cell_type": "markdown",
      "source": [
        "## Predicting the New results"
      ],
      "metadata": {
        "id": "l_LI-pgs0wgp"
      }
    },
    {
      "cell_type": "code",
      "source": [
        "print(regressor.predict([[10,8000,3200,32,8,32,220]]))\n",
        "# the more data we have the more confidence we have in saying that our prediction is accurate"
      ],
      "metadata": {
        "colab": {
          "base_uri": "https://localhost:8080/"
        },
        "id": "OK7hdxxr0z3g",
        "outputId": "048600d1-5002-4331-d6c5-3e410fe6f406"
      },
      "execution_count": 17,
      "outputs": [
        {
          "output_type": "stream",
          "name": "stdout",
          "text": [
            "[112.1]\n"
          ]
        }
      ]
    },
    {
      "cell_type": "markdown",
      "source": [
        "## Evaluating the model performance"
      ],
      "metadata": {
        "id": "FT-uAH-C0bEa"
      }
    },
    {
      "cell_type": "code",
      "source": [
        "from sklearn.metrics import r2_score\n",
        "r2_score(y_test,y_pred)"
      ],
      "metadata": {
        "colab": {
          "base_uri": "https://localhost:8080/"
        },
        "id": "OA1FCg2bzq-p",
        "outputId": "9c1e7642-e175-4e4b-e51d-bd4a21a9c3a6"
      },
      "execution_count": 13,
      "outputs": [
        {
          "output_type": "execute_result",
          "data": {
            "text/plain": [
              "0.9130884559266086"
            ]
          },
          "metadata": {},
          "execution_count": 13
        }
      ]
    },
    {
      "cell_type": "code",
      "source": [
        ""
      ],
      "metadata": {
        "id": "xQd66T6q0nkW"
      },
      "execution_count": 13,
      "outputs": []
    }
  ]
}