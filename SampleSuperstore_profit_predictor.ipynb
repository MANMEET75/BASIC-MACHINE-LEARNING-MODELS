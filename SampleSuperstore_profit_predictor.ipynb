{
  "nbformat": 4,
  "nbformat_minor": 0,
  "metadata": {
    "colab": {
      "name": "Untitled8.ipynb",
      "provenance": [],
      "collapsed_sections": []
    },
    "kernelspec": {
      "name": "python3",
      "display_name": "Python 3"
    },
    "language_info": {
      "name": "python"
    }
  },
  "cells": [
    {
      "cell_type": "markdown",
      "source": [
        "## Making the dataset for the Machine learning model"
      ],
      "metadata": {
        "id": "MZbist4V2Wpc"
      }
    },
    {
      "cell_type": "code",
      "execution_count": 10,
      "metadata": {
        "id": "r58d5yiQ2Jta"
      },
      "outputs": [],
      "source": [
        "import pandas as pd"
      ]
    },
    {
      "cell_type": "code",
      "source": [
        "df=pd.read_csv(\"Superstore.csv\")\n",
        "df.drop([\"Row ID\",\"Order ID\",\"Order Date\",\"Ship Date\",\"Ship Mode\",\"Customer ID\",\"Customer Name\",\"Segment\",\"Country/Region\",\"City\",\"Postal Code\",\"Region\",\"Product ID\",\"Category\",\"Sub-Category\",\"Product Name\"],axis=1,inplace=True)"
      ],
      "metadata": {
        "id": "XYUVreIz2oLQ"
      },
      "execution_count": 11,
      "outputs": []
    },
    {
      "cell_type": "code",
      "source": [
        "df.to_csv(\"samplesuperstore.csv\",index=False)"
      ],
      "metadata": {
        "id": "6L2feoIE4Aj3"
      },
      "execution_count": 12,
      "outputs": []
    },
    {
      "cell_type": "markdown",
      "source": [
        "## Importing the libraries\n"
      ],
      "metadata": {
        "id": "cTzuyyGX7gp9"
      }
    },
    {
      "cell_type": "code",
      "source": [
        "import numpy as np\n",
        "import pandas as pd\n",
        "import matplotlib.pyplot as plt\n"
      ],
      "metadata": {
        "id": "N1E8LVXz5M81"
      },
      "execution_count": 13,
      "outputs": []
    },
    {
      "cell_type": "markdown",
      "source": [
        "## Importing the dataset"
      ],
      "metadata": {
        "id": "pdwSg5O07xb2"
      }
    },
    {
      "cell_type": "code",
      "source": [
        "dataset=pd.read_csv(\"samplesuperstore.csv\")\n",
        "X=dataset.iloc[:,1:-1].values\n",
        "y=dataset.iloc[:,-1].values\n",
        "\n",
        "y=y.reshape(len(y),1)"
      ],
      "metadata": {
        "id": "KAHI2C-v7tVS"
      },
      "execution_count": 14,
      "outputs": []
    },
    {
      "cell_type": "markdown",
      "source": [
        "## Splitting the dataset into training set and testing set"
      ],
      "metadata": {
        "id": "xPUD4Hl-8PDU"
      }
    },
    {
      "cell_type": "code",
      "source": [
        "from sklearn.model_selection import train_test_split\n",
        "X_train,X_test,y_train,y_test=train_test_split(X,y,test_size=0.2,random_state=0)"
      ],
      "metadata": {
        "id": "L4KeG74G8D0I"
      },
      "execution_count": 15,
      "outputs": []
    },
    {
      "cell_type": "markdown",
      "source": [
        "## Training the model on the training set"
      ],
      "metadata": {
        "id": "Li6CFMii8naT"
      }
    },
    {
      "cell_type": "code",
      "source": [
        "from sklearn.preprocessing import PolynomialFeatures\n",
        "from sklearn.linear_model import LinearRegression\n",
        "poly_reg=PolynomialFeatures(degree=4)\n",
        "X_poly=poly_reg.fit_transform(X_train)\n",
        "regressor=LinearRegression()\n",
        "regressor.fit(X_poly,y_train)"
      ],
      "metadata": {
        "colab": {
          "base_uri": "https://localhost:8080/"
        },
        "id": "k0im7Mke8mmw",
        "outputId": "af40b43e-1162-418e-cb78-91e78ddc40bf"
      },
      "execution_count": 16,
      "outputs": [
        {
          "output_type": "execute_result",
          "data": {
            "text/plain": [
              "LinearRegression()"
            ]
          },
          "metadata": {},
          "execution_count": 16
        }
      ]
    },
    {
      "cell_type": "markdown",
      "source": [
        "## Predicting the new results"
      ],
      "metadata": {
        "id": "Hibq7tAz84gD"
      }
    },
    {
      "cell_type": "code",
      "source": [
        "print(regressor.predict(poly_reg.fit_transform([[14,2,0.0]])))"
      ],
      "metadata": {
        "colab": {
          "base_uri": "https://localhost:8080/"
        },
        "id": "tCMKeOoP83cv",
        "outputId": "42b2ce27-bf38-44d6-9e83-b4215b3d75db"
      },
      "execution_count": 24,
      "outputs": [
        {
          "output_type": "stream",
          "name": "stdout",
          "text": [
            "[[4.12095493]]\n"
          ]
        }
      ]
    },
    {
      "cell_type": "markdown",
      "source": [
        "## Predicting the test set results"
      ],
      "metadata": {
        "id": "ufAc0iKx9P_m"
      }
    },
    {
      "cell_type": "code",
      "source": [
        "y_pred=regressor.predict(poly_reg.fit_transform(X_test))"
      ],
      "metadata": {
        "id": "gt5x0-O39Ajm"
      },
      "execution_count": 17,
      "outputs": []
    },
    {
      "cell_type": "markdown",
      "source": [
        "## Evaluating the performance of machine learning model"
      ],
      "metadata": {
        "id": "y6ZHJuyG9XQi"
      }
    },
    {
      "cell_type": "code",
      "source": [
        "from sklearn.metrics import r2_score\n",
        "r2_score(y_test,y_pred)"
      ],
      "metadata": {
        "colab": {
          "base_uri": "https://localhost:8080/"
        },
        "id": "aTDSnBgk9WcG",
        "outputId": "fda443d4-3961-4fed-92a0-d2d4072cee3a"
      },
      "execution_count": 18,
      "outputs": [
        {
          "output_type": "execute_result",
          "data": {
            "text/plain": [
              "0.8907082959751673"
            ]
          },
          "metadata": {},
          "execution_count": 18
        }
      ]
    },
    {
      "cell_type": "code",
      "source": [
        ""
      ],
      "metadata": {
        "id": "EgAWP73O9jPH"
      },
      "execution_count": 18,
      "outputs": []
    }
  ]
}