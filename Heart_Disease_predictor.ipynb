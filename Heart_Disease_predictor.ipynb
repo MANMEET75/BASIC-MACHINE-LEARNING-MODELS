{
  "nbformat": 4,
  "nbformat_minor": 0,
  "metadata": {
    "colab": {
      "name": "Heart_Disease_predictor.ipynb",
      "provenance": [],
      "collapsed_sections": []
    },
    "kernelspec": {
      "name": "python3",
      "display_name": "Python 3"
    },
    "language_info": {
      "name": "python"
    }
  },
  "cells": [
    {
      "cell_type": "markdown",
      "source": [
        "## Making the Dataset for the Machine learning model"
      ],
      "metadata": {
        "id": "ZAlr1_n-qJ9H"
      }
    },
    {
      "cell_type": "code",
      "execution_count": 15,
      "metadata": {
        "id": "GuwhPtAinHNW"
      },
      "outputs": [],
      "source": [
        "import pandas as pd"
      ]
    },
    {
      "cell_type": "code",
      "source": [
        "df=pd.read_csv(\"heart.csv\")\n",
        "df.drop([\"age\",\"sex\"],axis=1,inplace=True)"
      ],
      "metadata": {
        "id": "5LW_mW6cpoXN"
      },
      "execution_count": 16,
      "outputs": []
    },
    {
      "cell_type": "code",
      "source": [
        "df.to_csv(\"heartDisease.csv\",index=False)"
      ],
      "metadata": {
        "id": "R7bluK8ppsmj"
      },
      "execution_count": 17,
      "outputs": []
    },
    {
      "cell_type": "markdown",
      "source": [
        "## DATA PREPROCESSING PART"
      ],
      "metadata": {
        "id": "lj6U_Vc90WvP"
      }
    },
    {
      "cell_type": "markdown",
      "source": [
        "## Importing the libraries"
      ],
      "metadata": {
        "id": "ZEmPmNX6qTtG"
      }
    },
    {
      "cell_type": "code",
      "source": [
        "import numpy as np\n",
        "import pandas as pd\n",
        "import matplotlib.pyplot as plt"
      ],
      "metadata": {
        "id": "WJHbHFt4qGfc"
      },
      "execution_count": 18,
      "outputs": []
    },
    {
      "cell_type": "markdown",
      "source": [
        "## Importing the dataset"
      ],
      "metadata": {
        "id": "qKB4oDxzqcJV"
      }
    },
    {
      "cell_type": "code",
      "source": [
        "dataset=pd.read_csv(\"heartDisease.csv\")\n",
        "X=dataset.iloc[:,:-1].values\n",
        "y=dataset.iloc[:,-1].values\n",
        "\n"
      ],
      "metadata": {
        "id": "75z6INDFqbgL"
      },
      "execution_count": 19,
      "outputs": []
    },
    {
      "cell_type": "markdown",
      "source": [
        "## Spliting the dataset into training set and testing set"
      ],
      "metadata": {
        "id": "174WONCJqz-J"
      }
    },
    {
      "cell_type": "code",
      "source": [
        "from sklearn.model_selection import train_test_split\n",
        "X_train,X_test,y_train,y_test=train_test_split(X,y,test_size=0.2,random_state=0)"
      ],
      "metadata": {
        "id": "-4-eFmnVqtJa"
      },
      "execution_count": 20,
      "outputs": []
    },
    {
      "cell_type": "markdown",
      "source": [
        "## Feature Scaling"
      ],
      "metadata": {
        "id": "yfuIfwyVrH-1"
      }
    },
    {
      "cell_type": "markdown",
      "source": [
        "#### Although the application of feature scaling is not essential over here in the classification model but still we are applying it so as to accentuate the performance of our machine learning model"
      ],
      "metadata": {
        "id": "wLaGfwh6rK7L"
      }
    },
    {
      "cell_type": "code",
      "source": [
        "from sklearn.preprocessing import StandardScaler\n",
        "sc=StandardScaler()\n",
        "X_train=sc.fit_transform(X_train)\n",
        "X_test=sc.transform(X_test)\n",
        "\n"
      ],
      "metadata": {
        "id": "YzepH4I5rHDq"
      },
      "execution_count": 21,
      "outputs": []
    },
    {
      "cell_type": "markdown",
      "source": [
        "## Training the model on the training set"
      ],
      "metadata": {
        "id": "TljCto0Kr37z"
      }
    },
    {
      "cell_type": "code",
      "source": [
        "from sklearn.ensemble import RandomForestClassifier\n",
        "classifier=RandomForestClassifier(criterion=\"entropy\",random_state=0,n_estimators=100)\n",
        "classifier.fit(X_train,y_train)"
      ],
      "metadata": {
        "colab": {
          "base_uri": "https://localhost:8080/"
        },
        "id": "aJ2WEBXIrtP3",
        "outputId": "80b4b73c-d776-48e4-ea6c-23a1608d0202"
      },
      "execution_count": 22,
      "outputs": [
        {
          "output_type": "execute_result",
          "data": {
            "text/plain": [
              "RandomForestClassifier(criterion='entropy', random_state=0)"
            ]
          },
          "metadata": {},
          "execution_count": 22
        }
      ]
    },
    {
      "cell_type": "markdown",
      "source": [
        "## Predicting the new results"
      ],
      "metadata": {
        "id": "hTh-VkS3sJB7"
      }
    },
    {
      "cell_type": "code",
      "source": [
        "print(classifier.predict(sc.transform([[3,145,233,1,0,148,0,2.2,0,0,1]]))) # we have used transform method over here because we will have to apply the feature scaling on the new entries as well"
      ],
      "metadata": {
        "colab": {
          "base_uri": "https://localhost:8080/"
        },
        "id": "PlgE9T3asIJ4",
        "outputId": "080a8b10-39bf-455d-8e0d-c6b4a160238b"
      },
      "execution_count": 23,
      "outputs": [
        {
          "output_type": "stream",
          "name": "stdout",
          "text": [
            "[1]\n"
          ]
        }
      ]
    },
    {
      "cell_type": "markdown",
      "source": [
        "## Predicting the test set results"
      ],
      "metadata": {
        "id": "hue81KBlsjTz"
      }
    },
    {
      "cell_type": "code",
      "source": [
        "y_pred=classifier.predict(X_test)"
      ],
      "metadata": {
        "id": "edoTR01CshPI"
      },
      "execution_count": 24,
      "outputs": []
    },
    {
      "cell_type": "markdown",
      "source": [
        "## Making the confusion matrix"
      ],
      "metadata": {
        "id": "PbhLGr7xtGQa"
      }
    },
    {
      "cell_type": "code",
      "source": [
        "from sklearn.metrics import confusion_matrix,accuracy_score\n",
        "cm=confusion_matrix(y_test,y_pred)\n",
        "print(cm)\n",
        "accuracy_score(y_test,y_pred)"
      ],
      "metadata": {
        "colab": {
          "base_uri": "https://localhost:8080/"
        },
        "id": "-8ugFCMWtFnY",
        "outputId": "c9526353-8b97-44a3-fd27-b6c6c59422c2"
      },
      "execution_count": 25,
      "outputs": [
        {
          "output_type": "stream",
          "name": "stdout",
          "text": [
            "[[23  4]\n",
            " [ 4 30]]\n"
          ]
        },
        {
          "output_type": "execute_result",
          "data": {
            "text/plain": [
              "0.8688524590163934"
            ]
          },
          "metadata": {},
          "execution_count": 25
        }
      ]
    },
    {
      "cell_type": "markdown",
      "source": [
        "## 1 means persons have more chance of having heart disease and 0 means persons have less chance of having heart disease "
      ],
      "metadata": {
        "id": "jfGXyacTzZH4"
      }
    },
    {
      "cell_type": "code",
      "source": [
        "print(classifier.predict(sc.transform([[0,161,286,0,0,109,1,1.5,1,3,2]])))"
      ],
      "metadata": {
        "id": "upuEq08RtYWP",
        "colab": {
          "base_uri": "https://localhost:8080/"
        },
        "outputId": "43ad0a52-f211-4b2e-f9d8-1f399b0dd077"
      },
      "execution_count": 26,
      "outputs": [
        {
          "output_type": "stream",
          "name": "stdout",
          "text": [
            "[0]\n"
          ]
        }
      ]
    },
    {
      "cell_type": "code",
      "source": [
        ""
      ],
      "metadata": {
        "id": "OLPIlpKYzEb2"
      },
      "execution_count": 26,
      "outputs": []
    }
  ]
}